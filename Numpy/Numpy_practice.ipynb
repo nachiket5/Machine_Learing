{
  "nbformat": 4,
  "nbformat_minor": 0,
  "metadata": {
    "colab": {
      "provenance": []
    },
    "kernelspec": {
      "name": "python3",
      "display_name": "Python 3"
    },
    "language_info": {
      "name": "python"
    }
  },
  "cells": [
    {
      "cell_type": "code",
      "execution_count": 2,
      "metadata": {
        "id": "TVE71quIzEIO"
      },
      "outputs": [],
      "source": [
        "import numpy as np"
      ]
    },
    {
      "cell_type": "code",
      "source": [
        "import numpy as np\n",
        "\n",
        "a = np.array([a for a in range(10) if a%2 !=0])\n",
        "print(a)"
      ],
      "metadata": {
        "id": "mikUxFtk1w8V",
        "colab": {
          "base_uri": "https://localhost:8080/"
        },
        "outputId": "77273878-4dc3-4a9e-8a7c-30e833b3a6d0"
      },
      "execution_count": 3,
      "outputs": [
        {
          "output_type": "stream",
          "name": "stdout",
          "text": [
            "[1 3 5 7 9]\n"
          ]
        }
      ]
    },
    {
      "cell_type": "code",
      "source": [
        "print(np.ones([3,3],dtype=bool))\n",
        "\n",
        "\n",
        "print(np.zeros([3,3]))\n"
      ],
      "metadata": {
        "id": "62F7S4XJ3rLV",
        "colab": {
          "base_uri": "https://localhost:8080/"
        },
        "outputId": "cca9f9a3-47ba-49f0-b829-8b7f8fffc99b"
      },
      "execution_count": 9,
      "outputs": [
        {
          "output_type": "stream",
          "name": "stdout",
          "text": [
            "[[ True  True  True]\n",
            " [ True  True  True]\n",
            " [ True  True  True]]\n",
            "[[0. 0. 0.]\n",
            " [0. 0. 0.]\n",
            " [0. 0. 0.]]\n"
          ]
        }
      ]
    },
    {
      "cell_type": "code",
      "source": [
        "np.random.seed(100)\n",
        "rand_arr = np.random.random([3,3])/1e3\n",
        "rand_arr"
      ],
      "metadata": {
        "colab": {
          "base_uri": "https://localhost:8080/"
        },
        "id": "jzOfMsUOWKbs",
        "outputId": "0519ea26-6358-4497-d1f6-a03c4c2b38d5"
      },
      "execution_count": 10,
      "outputs": [
        {
          "output_type": "execute_result",
          "data": {
            "text/plain": [
              "array([[5.43404942e-04, 2.78369385e-04, 4.24517591e-04],\n",
              "       [8.44776132e-04, 4.71885619e-06, 1.21569121e-04],\n",
              "       [6.70749085e-04, 8.25852755e-04, 1.36706590e-04]])"
            ]
          },
          "metadata": {},
          "execution_count": 10
        }
      ]
    },
    {
      "cell_type": "code",
      "source": [
        "np.set_printoptions(suppress=True, precision=6)\n",
        "rand_arr"
      ],
      "metadata": {
        "colab": {
          "base_uri": "https://localhost:8080/"
        },
        "id": "J6lYvUG9WKZW",
        "outputId": "daa729d9-7294-4780-ef9c-06fb2ce0ad6c"
      },
      "execution_count": 11,
      "outputs": [
        {
          "output_type": "execute_result",
          "data": {
            "text/plain": [
              "array([[0.000543, 0.000278, 0.000425],\n",
              "       [0.000845, 0.000005, 0.000122],\n",
              "       [0.000671, 0.000826, 0.000137]])"
            ]
          },
          "metadata": {},
          "execution_count": 11
        }
      ]
    },
    {
      "cell_type": "code",
      "source": [
        "np.set_printoptions(threshold = 1000)"
      ],
      "metadata": {
        "id": "aQIlZ4jjXS1R"
      },
      "execution_count": 12,
      "outputs": []
    },
    {
      "cell_type": "code",
      "source": [
        "#reset the set_printoptions\n",
        "np.set_printoptions(edgeitems=3,\n",
        "                    infstr='inf',\n",
        "                    linewidth=75,\n",
        "                    nanstr='nan',\n",
        "                    precision=8,\n",
        "                    suppress=False,\n",
        "                    threshold=1000,\n",
        "                    formatter=None)"
      ],
      "metadata": {
        "id": "HWRHNJw5XTOd"
      },
      "execution_count": 13,
      "outputs": []
    },
    {
      "cell_type": "code",
      "source": [
        "a = np.arange(10)\n",
        "a"
      ],
      "metadata": {
        "id": "biOoedU7XTl1"
      },
      "execution_count": 160,
      "outputs": []
    },
    {
      "cell_type": "markdown",
      "source": [],
      "metadata": {
        "id": "PScK8Z5rXT89"
      }
    },
    {
      "cell_type": "code",
      "source": [
        "import numpy as np\n",
        "data = np.genfromtxt('/content/drive/MyDrive/dataset/Iris.csv',delimiter=',',dtype='object',names=True)\n",
        "\n",
        "spc = np.array([i[5] for i in data])"
      ],
      "metadata": {
        "id": "k_cHKdMCXUTz"
      },
      "execution_count": 14,
      "outputs": []
    },
    {
      "cell_type": "code",
      "source": [
        "data.dtype\n",
        "data_arr = data.reshape(150,-1)"
      ],
      "metadata": {
        "id": "C1sJbd_FZoue"
      },
      "execution_count": 15,
      "outputs": []
    },
    {
      "cell_type": "code",
      "source": [
        "data_arr[:10]"
      ],
      "metadata": {
        "colab": {
          "base_uri": "https://localhost:8080/"
        },
        "id": "uiiLyL7SG_k6",
        "outputId": "0920f627-b74f-43de-8994-31e5bcf699a3"
      },
      "execution_count": 16,
      "outputs": [
        {
          "output_type": "execute_result",
          "data": {
            "text/plain": [
              "array([[(b'1', b'5.1', b'3.5', b'1.4', b'0.2', b'Iris-setosa')],\n",
              "       [(b'2', b'4.9', b'3.0', b'1.4', b'0.2', b'Iris-setosa')],\n",
              "       [(b'3', b'4.7', b'3.2', b'1.3', b'0.2', b'Iris-setosa')],\n",
              "       [(b'4', b'4.6', b'3.1', b'1.5', b'0.2', b'Iris-setosa')],\n",
              "       [(b'5', b'5.0', b'3.6', b'1.4', b'0.2', b'Iris-setosa')],\n",
              "       [(b'6', b'5.4', b'3.9', b'1.7', b'0.4', b'Iris-setosa')],\n",
              "       [(b'7', b'4.6', b'3.4', b'1.4', b'0.3', b'Iris-setosa')],\n",
              "       [(b'8', b'5.0', b'3.4', b'1.5', b'0.2', b'Iris-setosa')],\n",
              "       [(b'9', b'4.4', b'2.9', b'1.4', b'0.2', b'Iris-setosa')],\n",
              "       [(b'10', b'4.9', b'3.1', b'1.5', b'0.1', b'Iris-setosa')]],\n",
              "      dtype=[('Id', 'O'), ('SepalLengthCm', 'O'), ('SepalWidthCm', 'O'), ('PetalLengthCm', 'O'), ('PetalWidthCm', 'O'), ('Species', 'O')])"
            ]
          },
          "metadata": {},
          "execution_count": 16
        }
      ]
    },
    {
      "cell_type": "code",
      "source": [
        "data.dtype.names"
      ],
      "metadata": {
        "colab": {
          "base_uri": "https://localhost:8080/"
        },
        "id": "v5UfN0RkZozN",
        "outputId": "dc76435e-aed7-4832-b1f4-4cf61daf2e49"
      },
      "execution_count": 17,
      "outputs": [
        {
          "output_type": "execute_result",
          "data": {
            "text/plain": [
              "('Id',\n",
              " 'SepalLengthCm',\n",
              " 'SepalWidthCm',\n",
              " 'PetalLengthCm',\n",
              " 'PetalWidthCm',\n",
              " 'Species')"
            ]
          },
          "metadata": {},
          "execution_count": 17
        }
      ]
    },
    {
      "cell_type": "code",
      "source": [
        "data['SepalLengthCm']"
      ],
      "metadata": {
        "colab": {
          "base_uri": "https://localhost:8080/"
        },
        "id": "YfZ1YMwIZo2F",
        "outputId": "c4e5913f-c7ba-41e5-f292-72652805c925"
      },
      "execution_count": 18,
      "outputs": [
        {
          "output_type": "execute_result",
          "data": {
            "text/plain": [
              "array([b'5.1', b'4.9', b'4.7', b'4.6', b'5.0', b'5.4', b'4.6', b'5.0',\n",
              "       b'4.4', b'4.9', b'5.4', b'4.8', b'4.8', b'4.3', b'5.8', b'5.7',\n",
              "       b'5.4', b'5.1', b'5.7', b'5.1', b'5.4', b'5.1', b'4.6', b'5.1',\n",
              "       b'4.8', b'5.0', b'5.0', b'5.2', b'5.2', b'4.7', b'4.8', b'5.4',\n",
              "       b'5.2', b'5.5', b'4.9', b'5.0', b'5.5', b'4.9', b'4.4', b'5.1',\n",
              "       b'5.0', b'4.5', b'4.4', b'5.0', b'5.1', b'4.8', b'5.1', b'4.6',\n",
              "       b'5.3', b'5.0', b'7.0', b'6.4', b'6.9', b'5.5', b'6.5', b'5.7',\n",
              "       b'6.3', b'4.9', b'6.6', b'5.2', b'5.0', b'5.9', b'6.0', b'6.1',\n",
              "       b'5.6', b'6.7', b'5.6', b'5.8', b'6.2', b'5.6', b'5.9', b'6.1',\n",
              "       b'6.3', b'6.1', b'6.4', b'6.6', b'6.8', b'6.7', b'6.0', b'5.7',\n",
              "       b'5.5', b'5.5', b'5.8', b'6.0', b'5.4', b'6.0', b'6.7', b'6.3',\n",
              "       b'5.6', b'5.5', b'5.5', b'6.1', b'5.8', b'5.0', b'5.6', b'5.7',\n",
              "       b'5.7', b'6.2', b'5.1', b'5.7', b'6.3', b'5.8', b'7.1', b'6.3',\n",
              "       b'6.5', b'7.6', b'4.9', b'7.3', b'6.7', b'7.2', b'6.5', b'6.4',\n",
              "       b'6.8', b'5.7', b'5.8', b'6.4', b'6.5', b'7.7', b'7.7', b'6.0',\n",
              "       b'6.9', b'5.6', b'7.7', b'6.3', b'6.7', b'7.2', b'6.2', b'6.1',\n",
              "       b'6.4', b'7.2', b'7.4', b'7.9', b'6.4', b'6.3', b'6.1', b'7.7',\n",
              "       b'6.3', b'6.4', b'6.0', b'6.9', b'6.7', b'6.9', b'5.8', b'6.8',\n",
              "       b'6.7', b'6.7', b'6.3', b'6.5', b'6.2', b'5.9'], dtype=object)"
            ]
          },
          "metadata": {},
          "execution_count": 18
        }
      ]
    },
    {
      "cell_type": "code",
      "source": [
        "url = '/content/drive/MyDrive/dataset/Iris.csv'\n",
        "sepallength = np.genfromtxt(url, delimiter=',', dtype='float', usecols=[0])\n",
        "sepallength"
      ],
      "metadata": {
        "id": "ggkbSv3LXUcV",
        "colab": {
          "base_uri": "https://localhost:8080/"
        },
        "outputId": "7478c4d8-2e38-473a-8834-32ec654baa39"
      },
      "execution_count": 37,
      "outputs": [
        {
          "output_type": "execute_result",
          "data": {
            "text/plain": [
              "array([ nan,   1.,   2.,   3.,   4.,   5.,   6.,   7.,   8.,   9.,  10.,\n",
              "        11.,  12.,  13.,  14.,  15.,  16.,  17.,  18.,  19.,  20.,  21.,\n",
              "        22.,  23.,  24.,  25.,  26.,  27.,  28.,  29.,  30.,  31.,  32.,\n",
              "        33.,  34.,  35.,  36.,  37.,  38.,  39.,  40.,  41.,  42.,  43.,\n",
              "        44.,  45.,  46.,  47.,  48.,  49.,  50.,  51.,  52.,  53.,  54.,\n",
              "        55.,  56.,  57.,  58.,  59.,  60.,  61.,  62.,  63.,  64.,  65.,\n",
              "        66.,  67.,  68.,  69.,  70.,  71.,  72.,  73.,  74.,  75.,  76.,\n",
              "        77.,  78.,  79.,  80.,  81.,  82.,  83.,  84.,  85.,  86.,  87.,\n",
              "        88.,  89.,  90.,  91.,  92.,  93.,  94.,  95.,  96.,  97.,  98.,\n",
              "        99., 100., 101., 102., 103., 104., 105., 106., 107., 108., 109.,\n",
              "       110., 111., 112., 113., 114., 115., 116., 117., 118., 119., 120.,\n",
              "       121., 122., 123., 124., 125., 126., 127., 128., 129., 130., 131.,\n",
              "       132., 133., 134., 135., 136., 137., 138., 139., 140., 141., 142.,\n",
              "       143., 144., 145., 146., 147., 148., 149., 150.])"
            ]
          },
          "metadata": {},
          "execution_count": 37
        }
      ]
    },
    {
      "cell_type": "code",
      "source": [
        "# print(np.set_printoptions())\n",
        "mn = min(sepallength)\n",
        "mx = max(sepallength)\n",
        "c = mx - mn\n",
        "ls = []\n",
        "def norm(sepallength):\n",
        "  for i in sepallength:\n",
        "    a = (i - mn)/ c\n",
        "    ls.append(a)\n",
        "\n",
        "  return np.array(ls)\n",
        "\n",
        "\n",
        "np.set_printoptions(precision=3)\n",
        "print(norm(sepallength))\n"
      ],
      "metadata": {
        "id": "hQehfFXmWKTs",
        "colab": {
          "base_uri": "https://localhost:8080/"
        },
        "outputId": "2e42755a-ab41-4d75-ff62-ba7deb93787d"
      },
      "execution_count": 20,
      "outputs": [
        {
          "output_type": "stream",
          "name": "stdout",
          "text": [
            "[0.222 0.167 0.111 0.083 0.194 0.306 0.083 0.194 0.028 0.167 0.306 0.139\n",
            " 0.139 0.    0.417 0.389 0.306 0.222 0.389 0.222 0.306 0.222 0.083 0.222\n",
            " 0.139 0.194 0.194 0.25  0.25  0.111 0.139 0.306 0.25  0.333 0.167 0.194\n",
            " 0.333 0.167 0.028 0.222 0.194 0.056 0.028 0.194 0.222 0.139 0.222 0.083\n",
            " 0.278 0.194 0.75  0.583 0.722 0.333 0.611 0.389 0.556 0.167 0.639 0.25\n",
            " 0.194 0.444 0.472 0.5   0.361 0.667 0.361 0.417 0.528 0.361 0.444 0.5\n",
            " 0.556 0.5   0.583 0.639 0.694 0.667 0.472 0.389 0.333 0.333 0.417 0.472\n",
            " 0.306 0.472 0.667 0.556 0.361 0.333 0.333 0.5   0.417 0.194 0.361 0.389\n",
            " 0.389 0.528 0.222 0.389 0.556 0.417 0.778 0.556 0.611 0.917 0.167 0.833\n",
            " 0.667 0.806 0.611 0.583 0.694 0.389 0.417 0.583 0.611 0.944 0.944 0.472\n",
            " 0.722 0.361 0.944 0.556 0.667 0.806 0.528 0.5   0.583 0.806 0.861 1.\n",
            " 0.583 0.556 0.5   0.944 0.556 0.583 0.472 0.722 0.667 0.722 0.417 0.694\n",
            " 0.667 0.667 0.556 0.611 0.528 0.444]\n"
          ]
        }
      ]
    },
    {
      "cell_type": "code",
      "source": [
        "sum(np.exp(np.array([1,2,3])))\n",
        "np.exp(np.array([1,2,3]))"
      ],
      "metadata": {
        "id": "9thXOHkGWKRd",
        "colab": {
          "base_uri": "https://localhost:8080/"
        },
        "outputId": "6022456f-f714-40af-b5e8-c6424e62680e"
      },
      "execution_count": 21,
      "outputs": [
        {
          "output_type": "execute_result",
          "data": {
            "text/plain": [
              "array([ 2.718,  7.389, 20.086])"
            ]
          },
          "metadata": {},
          "execution_count": 21
        }
      ]
    },
    {
      "cell_type": "code",
      "source": [
        "np.exp(-9)"
      ],
      "metadata": {
        "id": "sDFYPOnsWKPP",
        "colab": {
          "base_uri": "https://localhost:8080/"
        },
        "outputId": "2b4aaf58-2b7a-4716-8457-ca9e35cde13a"
      },
      "execution_count": 22,
      "outputs": [
        {
          "output_type": "execute_result",
          "data": {
            "text/plain": [
              "0.00012340980408667956"
            ]
          },
          "metadata": {},
          "execution_count": 22
        }
      ]
    },
    {
      "cell_type": "code",
      "source": [
        "data.dtype.names"
      ],
      "metadata": {
        "id": "rfikP8YMWKMh",
        "colab": {
          "base_uri": "https://localhost:8080/"
        },
        "outputId": "965239a4-0736-4b7a-a255-425d98a648a3"
      },
      "execution_count": 23,
      "outputs": [
        {
          "output_type": "execute_result",
          "data": {
            "text/plain": [
              "('Id',\n",
              " 'SepalLengthCm',\n",
              " 'SepalWidthCm',\n",
              " 'PetalLengthCm',\n",
              " 'PetalWidthCm',\n",
              " 'Species')"
            ]
          },
          "metadata": {},
          "execution_count": 23
        }
      ]
    },
    {
      "cell_type": "code",
      "source": [
        "url = '/content/drive/MyDrive/dataset/Iris.csv'\n",
        "sepallength = np.genfromtxt(url, delimiter=',', dtype='float', usecols=[0])\n",
        "sepallength"
      ],
      "metadata": {
        "id": "QQs9HUgiWKJw",
        "colab": {
          "base_uri": "https://localhost:8080/"
        },
        "outputId": "8f063229-855e-4ae7-813b-e546b6e8e22d"
      },
      "execution_count": 38,
      "outputs": [
        {
          "output_type": "execute_result",
          "data": {
            "text/plain": [
              "array([ nan,   1.,   2.,   3.,   4.,   5.,   6.,   7.,   8.,   9.,  10.,\n",
              "        11.,  12.,  13.,  14.,  15.,  16.,  17.,  18.,  19.,  20.,  21.,\n",
              "        22.,  23.,  24.,  25.,  26.,  27.,  28.,  29.,  30.,  31.,  32.,\n",
              "        33.,  34.,  35.,  36.,  37.,  38.,  39.,  40.,  41.,  42.,  43.,\n",
              "        44.,  45.,  46.,  47.,  48.,  49.,  50.,  51.,  52.,  53.,  54.,\n",
              "        55.,  56.,  57.,  58.,  59.,  60.,  61.,  62.,  63.,  64.,  65.,\n",
              "        66.,  67.,  68.,  69.,  70.,  71.,  72.,  73.,  74.,  75.,  76.,\n",
              "        77.,  78.,  79.,  80.,  81.,  82.,  83.,  84.,  85.,  86.,  87.,\n",
              "        88.,  89.,  90.,  91.,  92.,  93.,  94.,  95.,  96.,  97.,  98.,\n",
              "        99., 100., 101., 102., 103., 104., 105., 106., 107., 108., 109.,\n",
              "       110., 111., 112., 113., 114., 115., 116., 117., 118., 119., 120.,\n",
              "       121., 122., 123., 124., 125., 126., 127., 128., 129., 130., 131.,\n",
              "       132., 133., 134., 135., 136., 137., 138., 139., 140., 141., 142.,\n",
              "       143., 144., 145., 146., 147., 148., 149., 150.])"
            ]
          },
          "metadata": {},
          "execution_count": 38
        }
      ]
    },
    {
      "cell_type": "code",
      "source": [
        "np.percentile(sepallength,100)\n",
        "\n",
        "\n",
        "# data"
      ],
      "metadata": {
        "id": "Bno2qGQwWKCw",
        "colab": {
          "base_uri": "https://localhost:8080/"
        },
        "outputId": "ddb62967-be96-4808-b94c-cc99fdbc8e6d"
      },
      "execution_count": 41,
      "outputs": [
        {
          "output_type": "execute_result",
          "data": {
            "text/plain": [
              "7.9"
            ]
          },
          "metadata": {},
          "execution_count": 41
        }
      ]
    },
    {
      "cell_type": "code",
      "source": [
        "sepallength.max()"
      ],
      "metadata": {
        "id": "qDwZaidUWJ5f",
        "colab": {
          "base_uri": "https://localhost:8080/"
        },
        "outputId": "ef0c67d6-dbaf-4889-a5e1-8cc64c4482d0"
      },
      "execution_count": 42,
      "outputs": [
        {
          "output_type": "execute_result",
          "data": {
            "text/plain": [
              "7.9"
            ]
          },
          "metadata": {},
          "execution_count": 42
        }
      ]
    },
    {
      "cell_type": "code",
      "source": [
        "url = '/content/drive/MyDrive/dataset/Iris.csv'\n",
        "iris_2d = np.genfromtxt(url, delimiter=',', dtype='object')\n",
        "\n",
        "\n",
        "# np.random.  iris_2d\n",
        "np.random.seed(100)\n",
        "iris_2d[np.random.randint(150, size=20), np.random.randint(4,size=20)] = np.nan\n",
        "print(iris_2d)"
      ],
      "metadata": {
        "id": "PrytSbjwWCnD",
        "colab": {
          "base_uri": "https://localhost:8080/"
        },
        "outputId": "db630d9b-f4a1-4b64-a1c6-059ce954b4be"
      },
      "execution_count": 39,
      "outputs": [
        {
          "output_type": "stream",
          "name": "stdout",
          "text": [
            "[[b'Id' b'SepalLengthCm' b'SepalWidthCm' b'PetalLengthCm' b'PetalWidthCm'\n",
            "  b'Species']\n",
            " [b'1' b'5.1' b'3.5' b'1.4' b'0.2' b'Iris-setosa']\n",
            " [b'2' b'4.9' b'3.0' b'1.4' b'0.2' b'Iris-setosa']\n",
            " [b'3' b'4.7' b'3.2' b'1.3' b'0.2' b'Iris-setosa']\n",
            " [b'4' b'4.6' b'3.1' b'1.5' b'0.2' b'Iris-setosa']\n",
            " [b'5' b'5.0' b'3.6' b'1.4' b'0.2' b'Iris-setosa']\n",
            " [b'6' b'5.4' b'3.9' b'1.7' b'0.4' b'Iris-setosa']\n",
            " [b'7' b'4.6' b'3.4' b'1.4' b'0.3' b'Iris-setosa']\n",
            " [b'8' nan b'3.4' b'1.5' b'0.2' b'Iris-setosa']\n",
            " [b'9' b'4.4' b'2.9' b'1.4' b'0.2' b'Iris-setosa']\n",
            " [b'10' b'4.9' b'3.1' b'1.5' b'0.1' b'Iris-setosa']\n",
            " [b'11' b'5.4' b'3.7' b'1.5' b'0.2' b'Iris-setosa']\n",
            " [b'12' b'4.8' b'3.4' b'1.6' b'0.2' b'Iris-setosa']\n",
            " [b'13' b'4.8' b'3.0' b'1.4' b'0.1' b'Iris-setosa']\n",
            " [nan b'4.3' b'3.0' b'1.1' b'0.1' b'Iris-setosa']\n",
            " [b'15' b'5.8' b'4.0' b'1.2' b'0.2' b'Iris-setosa']\n",
            " [b'16' b'5.7' b'4.4' b'1.5' b'0.4' b'Iris-setosa']\n",
            " [b'17' b'5.4' b'3.9' b'1.3' b'0.4' b'Iris-setosa']\n",
            " [b'18' b'5.1' b'3.5' b'1.4' b'0.3' b'Iris-setosa']\n",
            " [b'19' b'5.7' b'3.8' b'1.7' b'0.3' b'Iris-setosa']\n",
            " [b'20' b'5.1' b'3.8' b'1.5' b'0.3' b'Iris-setosa']\n",
            " [b'21' b'5.4' b'3.4' b'1.7' b'0.2' b'Iris-setosa']\n",
            " [b'22' b'5.1' b'3.7' b'1.5' b'0.4' b'Iris-setosa']\n",
            " [b'23' b'4.6' b'3.6' b'1.0' b'0.2' b'Iris-setosa']\n",
            " [b'24' b'5.1' nan nan b'0.5' b'Iris-setosa']\n",
            " [b'25' b'4.8' b'3.4' b'1.9' b'0.2' b'Iris-setosa']\n",
            " [b'26' b'5.0' b'3.0' b'1.6' b'0.2' b'Iris-setosa']\n",
            " [b'27' b'5.0' b'3.4' b'1.6' b'0.4' b'Iris-setosa']\n",
            " [b'28' b'5.2' b'3.5' b'1.5' b'0.2' b'Iris-setosa']\n",
            " [b'29' b'5.2' b'3.4' b'1.4' b'0.2' b'Iris-setosa']\n",
            " [b'30' b'4.7' b'3.2' b'1.6' b'0.2' b'Iris-setosa']\n",
            " [b'31' b'4.8' b'3.1' b'1.6' b'0.2' b'Iris-setosa']\n",
            " [b'32' b'5.4' b'3.4' b'1.5' b'0.4' b'Iris-setosa']\n",
            " [b'33' b'5.2' b'4.1' b'1.5' b'0.1' b'Iris-setosa']\n",
            " [nan b'5.5' b'4.2' b'1.4' b'0.2' b'Iris-setosa']\n",
            " [b'35' b'4.9' b'3.1' b'1.5' b'0.1' b'Iris-setosa']\n",
            " [b'36' b'5.0' b'3.2' b'1.2' b'0.2' b'Iris-setosa']\n",
            " [b'37' b'5.5' b'3.5' b'1.3' b'0.2' b'Iris-setosa']\n",
            " [b'38' b'4.9' b'3.1' b'1.5' b'0.1' b'Iris-setosa']\n",
            " [b'39' b'4.4' b'3.0' b'1.3' b'0.2' b'Iris-setosa']\n",
            " [b'40' b'5.1' b'3.4' b'1.5' b'0.2' b'Iris-setosa']\n",
            " [b'41' b'5.0' b'3.5' b'1.3' b'0.3' b'Iris-setosa']\n",
            " [b'42' b'4.5' b'2.3' b'1.3' b'0.3' b'Iris-setosa']\n",
            " [b'43' b'4.4' b'3.2' b'1.3' b'0.2' b'Iris-setosa']\n",
            " [b'44' b'5.0' b'3.5' b'1.6' b'0.6' b'Iris-setosa']\n",
            " [b'45' b'5.1' b'3.8' b'1.9' b'0.4' b'Iris-setosa']\n",
            " [b'46' b'4.8' b'3.0' b'1.4' b'0.3' b'Iris-setosa']\n",
            " [b'47' b'5.1' b'3.8' b'1.6' b'0.2' b'Iris-setosa']\n",
            " [b'48' b'4.6' b'3.2' b'1.4' b'0.2' b'Iris-setosa']\n",
            " [b'49' b'5.3' b'3.7' b'1.5' b'0.2' b'Iris-setosa']\n",
            " [b'50' b'5.0' b'3.3' b'1.4' b'0.2' b'Iris-setosa']\n",
            " [b'51' b'7.0' b'3.2' b'4.7' b'1.4' b'Iris-versicolor']\n",
            " [b'52' b'6.4' b'3.2' b'4.5' b'1.5' b'Iris-versicolor']\n",
            " [b'53' nan b'3.1' b'4.9' b'1.5' b'Iris-versicolor']\n",
            " [b'54' b'5.5' b'2.3' b'4.0' b'1.3' b'Iris-versicolor']\n",
            " [b'55' b'6.5' b'2.8' b'4.6' b'1.5' b'Iris-versicolor']\n",
            " [b'56' b'5.7' b'2.8' b'4.5' b'1.3' b'Iris-versicolor']\n",
            " [b'57' b'6.3' b'3.3' b'4.7' b'1.6' b'Iris-versicolor']\n",
            " [b'58' nan b'2.4' b'3.3' b'1.0' b'Iris-versicolor']\n",
            " [b'59' b'6.6' b'2.9' b'4.6' b'1.3' b'Iris-versicolor']\n",
            " [b'60' b'5.2' b'2.7' nan b'1.4' b'Iris-versicolor']\n",
            " [b'61' b'5.0' b'2.0' b'3.5' b'1.0' b'Iris-versicolor']\n",
            " [b'62' b'5.9' b'3.0' b'4.2' b'1.5' b'Iris-versicolor']\n",
            " [b'63' b'6.0' b'2.2' b'4.0' b'1.0' b'Iris-versicolor']\n",
            " [b'64' b'6.1' b'2.9' b'4.7' b'1.4' b'Iris-versicolor']\n",
            " [b'65' b'5.6' b'2.9' b'3.6' b'1.3' b'Iris-versicolor']\n",
            " [b'66' b'6.7' b'3.1' nan b'1.4' b'Iris-versicolor']\n",
            " [b'67' b'5.6' nan b'4.5' b'1.5' b'Iris-versicolor']\n",
            " [b'68' b'5.8' b'2.7' b'4.1' b'1.0' b'Iris-versicolor']\n",
            " [b'69' b'6.2' b'2.2' b'4.5' b'1.5' b'Iris-versicolor']\n",
            " [b'70' b'5.6' b'2.5' b'3.9' b'1.1' b'Iris-versicolor']\n",
            " [b'71' b'5.9' b'3.2' b'4.8' b'1.8' b'Iris-versicolor']\n",
            " [b'72' b'6.1' b'2.8' b'4.0' b'1.3' b'Iris-versicolor']\n",
            " [b'73' b'6.3' b'2.5' b'4.9' b'1.5' b'Iris-versicolor']\n",
            " [b'74' b'6.1' b'2.8' b'4.7' b'1.2' b'Iris-versicolor']\n",
            " [b'75' b'6.4' b'2.9' b'4.3' b'1.3' b'Iris-versicolor']\n",
            " [b'76' b'6.6' b'3.0' b'4.4' b'1.4' b'Iris-versicolor']\n",
            " [b'77' b'6.8' b'2.8' b'4.8' b'1.4' b'Iris-versicolor']\n",
            " [b'78' b'6.7' b'3.0' b'5.0' b'1.7' b'Iris-versicolor']\n",
            " [nan b'6.0' b'2.9' b'4.5' b'1.5' b'Iris-versicolor']\n",
            " [b'80' b'5.7' b'2.6' b'3.5' b'1.0' b'Iris-versicolor']\n",
            " [b'81' b'5.5' b'2.4' b'3.8' b'1.1' b'Iris-versicolor']\n",
            " [b'82' b'5.5' b'2.4' b'3.7' b'1.0' b'Iris-versicolor']\n",
            " [b'83' b'5.8' b'2.7' b'3.9' b'1.2' b'Iris-versicolor']\n",
            " [b'84' b'6.0' b'2.7' b'5.1' b'1.6' b'Iris-versicolor']\n",
            " [b'85' b'5.4' b'3.0' b'4.5' b'1.5' b'Iris-versicolor']\n",
            " [b'86' b'6.0' b'3.4' b'4.5' b'1.6' b'Iris-versicolor']\n",
            " [nan b'6.7' b'3.1' b'4.7' b'1.5' b'Iris-versicolor']\n",
            " [b'88' b'6.3' b'2.3' b'4.4' b'1.3' b'Iris-versicolor']\n",
            " [b'89' b'5.6' b'3.0' b'4.1' b'1.3' b'Iris-versicolor']\n",
            " [b'90' b'5.5' b'2.5' b'4.0' b'1.3' b'Iris-versicolor']\n",
            " [b'91' b'5.5' b'2.6' b'4.4' b'1.2' b'Iris-versicolor']\n",
            " [b'92' b'6.1' b'3.0' b'4.6' b'1.4' b'Iris-versicolor']\n",
            " [b'93' b'5.8' b'2.6' b'4.0' b'1.2' b'Iris-versicolor']\n",
            " [b'94' nan b'2.3' b'3.3' b'1.0' b'Iris-versicolor']\n",
            " [b'95' b'5.6' b'2.7' b'4.2' b'1.3' b'Iris-versicolor']\n",
            " [b'96' b'5.7' b'3.0' b'4.2' b'1.2' b'Iris-versicolor']\n",
            " [b'97' b'5.7' b'2.9' b'4.2' b'1.3' b'Iris-versicolor']\n",
            " [b'98' nan b'2.9' b'4.3' b'1.3' b'Iris-versicolor']\n",
            " [b'99' b'5.1' b'2.5' b'3.0' b'1.1' b'Iris-versicolor']\n",
            " [b'100' b'5.7' b'2.8' b'4.1' b'1.3' b'Iris-versicolor']\n",
            " [b'101' b'6.3' b'3.3' b'6.0' b'2.5' b'Iris-virginica']\n",
            " [b'102' b'5.8' b'2.7' b'5.1' b'1.9' b'Iris-virginica']\n",
            " [b'103' b'7.1' b'3.0' nan b'2.1' b'Iris-virginica']\n",
            " [b'104' b'6.3' b'2.9' b'5.6' b'1.8' b'Iris-virginica']\n",
            " [b'105' b'6.5' b'3.0' b'5.8' b'2.2' b'Iris-virginica']\n",
            " [b'106' b'7.6' b'3.0' b'6.6' b'2.1' b'Iris-virginica']\n",
            " [b'107' b'4.9' b'2.5' nan b'1.7' b'Iris-virginica']\n",
            " [b'108' b'7.3' b'2.9' b'6.3' b'1.8' b'Iris-virginica']\n",
            " [b'109' b'6.7' b'2.5' b'5.8' b'1.8' b'Iris-virginica']\n",
            " [b'110' b'7.2' b'3.6' b'6.1' b'2.5' b'Iris-virginica']\n",
            " [b'111' b'6.5' b'3.2' b'5.1' b'2.0' b'Iris-virginica']\n",
            " [b'112' b'6.4' b'2.7' b'5.3' b'1.9' b'Iris-virginica']\n",
            " [b'113' b'6.8' b'3.0' b'5.5' b'2.1' b'Iris-virginica']\n",
            " [b'114' b'5.7' b'2.5' b'5.0' b'2.0' b'Iris-virginica']\n",
            " [b'115' b'5.8' b'2.8' b'5.1' b'2.4' b'Iris-virginica']\n",
            " [b'116' b'6.4' b'3.2' b'5.3' b'2.3' b'Iris-virginica']\n",
            " [b'117' b'6.5' b'3.0' b'5.5' b'1.8' b'Iris-virginica']\n",
            " [b'118' b'7.7' b'3.8' b'6.7' b'2.2' b'Iris-virginica']\n",
            " [b'119' b'7.7' b'2.6' b'6.9' b'2.3' b'Iris-virginica']\n",
            " [b'120' b'6.0' b'2.2' b'5.0' b'1.5' b'Iris-virginica']\n",
            " [b'121' b'6.9' b'3.2' b'5.7' b'2.3' b'Iris-virginica']\n",
            " [b'122' b'5.6' b'2.8' b'4.9' b'2.0' b'Iris-virginica']\n",
            " [b'123' b'7.7' b'2.8' b'6.7' b'2.0' b'Iris-virginica']\n",
            " [b'124' b'6.3' b'2.7' b'4.9' b'1.8' b'Iris-virginica']\n",
            " [b'125' b'6.7' b'3.3' b'5.7' b'2.1' b'Iris-virginica']\n",
            " [b'126' b'7.2' b'3.2' b'6.0' b'1.8' b'Iris-virginica']\n",
            " [b'127' b'6.2' b'2.8' b'4.8' b'1.8' b'Iris-virginica']\n",
            " [b'128' b'6.1' b'3.0' b'4.9' b'1.8' b'Iris-virginica']\n",
            " [b'129' b'6.4' b'2.8' b'5.6' b'2.1' b'Iris-virginica']\n",
            " [b'130' b'7.2' b'3.0' b'5.8' b'1.6' b'Iris-virginica']\n",
            " [b'131' b'7.4' b'2.8' b'6.1' b'1.9' b'Iris-virginica']\n",
            " [b'132' b'7.9' b'3.8' b'6.4' b'2.0' b'Iris-virginica']\n",
            " [b'133' b'6.4' b'2.8' b'5.6' b'2.2' b'Iris-virginica']\n",
            " [b'134' b'6.3' b'2.8' b'5.1' b'1.5' b'Iris-virginica']\n",
            " [b'135' b'6.1' b'2.6' b'5.6' b'1.4' b'Iris-virginica']\n",
            " [b'136' b'7.7' b'3.0' b'6.1' b'2.3' b'Iris-virginica']\n",
            " [b'137' nan b'3.4' b'5.6' b'2.4' b'Iris-virginica']\n",
            " [b'138' b'6.4' b'3.1' nan b'1.8' b'Iris-virginica']\n",
            " [b'139' b'6.0' b'3.0' b'4.8' b'1.8' b'Iris-virginica']\n",
            " [b'140' b'6.9' b'3.1' b'5.4' b'2.1' b'Iris-virginica']\n",
            " [b'141' b'6.7' b'3.1' b'5.6' b'2.4' b'Iris-virginica']\n",
            " [b'142' b'6.9' b'3.1' b'5.1' b'2.3' b'Iris-virginica']\n",
            " [b'143' b'5.8' b'2.7' nan b'1.9' b'Iris-virginica']\n",
            " [b'144' b'6.8' b'3.2' nan b'2.3' b'Iris-virginica']\n",
            " [b'145' b'6.7' b'3.3' b'5.7' b'2.5' b'Iris-virginica']\n",
            " [b'146' b'6.7' b'3.0' b'5.2' b'2.3' b'Iris-virginica']\n",
            " [b'147' b'6.3' b'2.5' b'5.0' b'1.9' b'Iris-virginica']\n",
            " [b'148' b'6.5' b'3.0' b'5.2' b'2.0' b'Iris-virginica']\n",
            " [b'149' b'6.2' b'3.4' b'5.4' b'2.3' b'Iris-virginica']\n",
            " [b'150' b'5.9' b'3.0' b'5.1' b'1.8' b'Iris-virginica']]\n"
          ]
        }
      ]
    },
    {
      "cell_type": "code",
      "source": [
        "np.where(np.isnan(iris_2d[:,:4].astype('float')))"
      ],
      "metadata": {
        "colab": {
          "base_uri": "https://localhost:8080/"
        },
        "id": "MvgATsypcasV",
        "outputId": "7c403532-738b-49ab-818e-2b01ff28d342"
      },
      "execution_count": 25,
      "outputs": [
        {
          "output_type": "execute_result",
          "data": {
            "text/plain": [
              "(array([  8,  14,  24,  24,  34,  53,  58,  60,  66,  67,  79,  87,  94,\n",
              "         98, 103, 107, 137, 138, 143, 144]),\n",
              " array([1, 0, 2, 3, 0, 1, 1, 3, 3, 2, 0, 0, 1, 1, 3, 3, 1, 3, 3, 3]))"
            ]
          },
          "metadata": {},
          "execution_count": 25
        }
      ]
    },
    {
      "cell_type": "code",
      "source": [
        "iris_2d[:,:5]"
      ],
      "metadata": {
        "colab": {
          "base_uri": "https://localhost:8080/"
        },
        "id": "_aPz9uEOca4Z",
        "outputId": "ed47c0a7-b519-4e87-9214-6bcf6454ef19"
      },
      "execution_count": 26,
      "outputs": [
        {
          "output_type": "execute_result",
          "data": {
            "text/plain": [
              "array([[b'5.1', b'3.5', b'1.4', b'0.2', b'Iris-setosa'],\n",
              "       [b'4.9', b'3.0', b'1.4', b'0.2', b'Iris-setosa'],\n",
              "       [b'4.7', b'3.2', b'1.3', b'0.2', b'Iris-setosa'],\n",
              "       [b'4.6', b'3.1', b'1.5', b'0.2', b'Iris-setosa'],\n",
              "       [b'5.0', b'3.6', b'1.4', b'0.2', b'Iris-setosa'],\n",
              "       [b'5.4', b'3.9', b'1.7', b'0.4', b'Iris-setosa'],\n",
              "       [b'4.6', b'3.4', b'1.4', b'0.3', b'Iris-setosa'],\n",
              "       [b'5.0', b'3.4', b'1.5', b'0.2', b'Iris-setosa'],\n",
              "       [b'4.4', nan, b'1.4', b'0.2', b'Iris-setosa'],\n",
              "       [b'4.9', b'3.1', b'1.5', b'0.1', b'Iris-setosa'],\n",
              "       [b'5.4', b'3.7', b'1.5', b'0.2', b'Iris-setosa'],\n",
              "       [b'4.8', b'3.4', b'1.6', b'0.2', b'Iris-setosa'],\n",
              "       [b'4.8', b'3.0', b'1.4', b'0.1', b'Iris-setosa'],\n",
              "       [b'4.3', b'3.0', b'1.1', b'0.1', b'Iris-setosa'],\n",
              "       [nan, b'4.0', b'1.2', b'0.2', b'Iris-setosa'],\n",
              "       [b'5.7', b'4.4', b'1.5', b'0.4', b'Iris-setosa'],\n",
              "       [b'5.4', b'3.9', b'1.3', b'0.4', b'Iris-setosa'],\n",
              "       [b'5.1', b'3.5', b'1.4', b'0.3', b'Iris-setosa'],\n",
              "       [b'5.7', b'3.8', b'1.7', b'0.3', b'Iris-setosa'],\n",
              "       [b'5.1', b'3.8', b'1.5', b'0.3', b'Iris-setosa'],\n",
              "       [b'5.4', b'3.4', b'1.7', b'0.2', b'Iris-setosa'],\n",
              "       [b'5.1', b'3.7', b'1.5', b'0.4', b'Iris-setosa'],\n",
              "       [b'4.6', b'3.6', b'1.0', b'0.2', b'Iris-setosa'],\n",
              "       [b'5.1', b'3.3', b'1.7', b'0.5', b'Iris-setosa'],\n",
              "       [b'4.8', b'3.4', nan, nan, b'Iris-setosa'],\n",
              "       [b'5.0', b'3.0', b'1.6', b'0.2', b'Iris-setosa'],\n",
              "       [b'5.0', b'3.4', b'1.6', b'0.4', b'Iris-setosa'],\n",
              "       [b'5.2', b'3.5', b'1.5', b'0.2', b'Iris-setosa'],\n",
              "       [b'5.2', b'3.4', b'1.4', b'0.2', b'Iris-setosa'],\n",
              "       [b'4.7', b'3.2', b'1.6', b'0.2', b'Iris-setosa'],\n",
              "       [b'4.8', b'3.1', b'1.6', b'0.2', b'Iris-setosa'],\n",
              "       [b'5.4', b'3.4', b'1.5', b'0.4', b'Iris-setosa'],\n",
              "       [b'5.2', b'4.1', b'1.5', b'0.1', b'Iris-setosa'],\n",
              "       [b'5.5', b'4.2', b'1.4', b'0.2', b'Iris-setosa'],\n",
              "       [nan, b'3.1', b'1.5', b'0.1', b'Iris-setosa'],\n",
              "       [b'5.0', b'3.2', b'1.2', b'0.2', b'Iris-setosa'],\n",
              "       [b'5.5', b'3.5', b'1.3', b'0.2', b'Iris-setosa'],\n",
              "       [b'4.9', b'3.1', b'1.5', b'0.1', b'Iris-setosa'],\n",
              "       [b'4.4', b'3.0', b'1.3', b'0.2', b'Iris-setosa'],\n",
              "       [b'5.1', b'3.4', b'1.5', b'0.2', b'Iris-setosa'],\n",
              "       [b'5.0', b'3.5', b'1.3', b'0.3', b'Iris-setosa'],\n",
              "       [b'4.5', b'2.3', b'1.3', b'0.3', b'Iris-setosa'],\n",
              "       [b'4.4', b'3.2', b'1.3', b'0.2', b'Iris-setosa'],\n",
              "       [b'5.0', b'3.5', b'1.6', b'0.6', b'Iris-setosa'],\n",
              "       [b'5.1', b'3.8', b'1.9', b'0.4', b'Iris-setosa'],\n",
              "       [b'4.8', b'3.0', b'1.4', b'0.3', b'Iris-setosa'],\n",
              "       [b'5.1', b'3.8', b'1.6', b'0.2', b'Iris-setosa'],\n",
              "       [b'4.6', b'3.2', b'1.4', b'0.2', b'Iris-setosa'],\n",
              "       [b'5.3', b'3.7', b'1.5', b'0.2', b'Iris-setosa'],\n",
              "       [b'5.0', b'3.3', b'1.4', b'0.2', b'Iris-setosa'],\n",
              "       [b'7.0', b'3.2', b'4.7', b'1.4', b'Iris-versicolor'],\n",
              "       [b'6.4', b'3.2', b'4.5', b'1.5', b'Iris-versicolor'],\n",
              "       [b'6.9', b'3.1', b'4.9', b'1.5', b'Iris-versicolor'],\n",
              "       [b'5.5', nan, b'4.0', b'1.3', b'Iris-versicolor'],\n",
              "       [b'6.5', b'2.8', b'4.6', b'1.5', b'Iris-versicolor'],\n",
              "       [b'5.7', b'2.8', b'4.5', b'1.3', b'Iris-versicolor'],\n",
              "       [b'6.3', b'3.3', b'4.7', b'1.6', b'Iris-versicolor'],\n",
              "       [b'4.9', b'2.4', b'3.3', b'1.0', b'Iris-versicolor'],\n",
              "       [b'6.6', nan, b'4.6', b'1.3', b'Iris-versicolor'],\n",
              "       [b'5.2', b'2.7', b'3.9', b'1.4', b'Iris-versicolor'],\n",
              "       [b'5.0', b'2.0', b'3.5', nan, b'Iris-versicolor'],\n",
              "       [b'5.9', b'3.0', b'4.2', b'1.5', b'Iris-versicolor'],\n",
              "       [b'6.0', b'2.2', b'4.0', b'1.0', b'Iris-versicolor'],\n",
              "       [b'6.1', b'2.9', b'4.7', b'1.4', b'Iris-versicolor'],\n",
              "       [b'5.6', b'2.9', b'3.6', b'1.3', b'Iris-versicolor'],\n",
              "       [b'6.7', b'3.1', b'4.4', b'1.4', b'Iris-versicolor'],\n",
              "       [b'5.6', b'3.0', b'4.5', nan, b'Iris-versicolor'],\n",
              "       [b'5.8', b'2.7', nan, b'1.0', b'Iris-versicolor'],\n",
              "       [b'6.2', b'2.2', b'4.5', b'1.5', b'Iris-versicolor'],\n",
              "       [b'5.6', b'2.5', b'3.9', b'1.1', b'Iris-versicolor'],\n",
              "       [b'5.9', b'3.2', b'4.8', b'1.8', b'Iris-versicolor'],\n",
              "       [b'6.1', b'2.8', b'4.0', b'1.3', b'Iris-versicolor'],\n",
              "       [b'6.3', b'2.5', b'4.9', b'1.5', b'Iris-versicolor'],\n",
              "       [b'6.1', b'2.8', b'4.7', b'1.2', b'Iris-versicolor'],\n",
              "       [b'6.4', b'2.9', b'4.3', b'1.3', b'Iris-versicolor'],\n",
              "       [b'6.6', b'3.0', b'4.4', b'1.4', b'Iris-versicolor'],\n",
              "       [b'6.8', b'2.8', b'4.8', b'1.4', b'Iris-versicolor'],\n",
              "       [b'6.7', b'3.0', b'5.0', b'1.7', b'Iris-versicolor'],\n",
              "       [b'6.0', b'2.9', b'4.5', b'1.5', b'Iris-versicolor'],\n",
              "       [nan, b'2.6', b'3.5', b'1.0', b'Iris-versicolor'],\n",
              "       [b'5.5', b'2.4', b'3.8', b'1.1', b'Iris-versicolor'],\n",
              "       [b'5.5', b'2.4', b'3.7', b'1.0', b'Iris-versicolor'],\n",
              "       [b'5.8', b'2.7', b'3.9', b'1.2', b'Iris-versicolor'],\n",
              "       [b'6.0', b'2.7', b'5.1', b'1.6', b'Iris-versicolor'],\n",
              "       [b'5.4', b'3.0', b'4.5', b'1.5', b'Iris-versicolor'],\n",
              "       [b'6.0', b'3.4', b'4.5', b'1.6', b'Iris-versicolor'],\n",
              "       [b'6.7', b'3.1', b'4.7', b'1.5', b'Iris-versicolor'],\n",
              "       [nan, b'2.3', b'4.4', b'1.3', b'Iris-versicolor'],\n",
              "       [b'5.6', b'3.0', b'4.1', b'1.3', b'Iris-versicolor'],\n",
              "       [b'5.5', b'2.5', b'4.0', b'1.3', b'Iris-versicolor'],\n",
              "       [b'5.5', b'2.6', b'4.4', b'1.2', b'Iris-versicolor'],\n",
              "       [b'6.1', b'3.0', b'4.6', b'1.4', b'Iris-versicolor'],\n",
              "       [b'5.8', b'2.6', b'4.0', b'1.2', b'Iris-versicolor'],\n",
              "       [b'5.0', b'2.3', b'3.3', b'1.0', b'Iris-versicolor'],\n",
              "       [b'5.6', nan, b'4.2', b'1.3', b'Iris-versicolor'],\n",
              "       [b'5.7', b'3.0', b'4.2', b'1.2', b'Iris-versicolor'],\n",
              "       [b'5.7', b'2.9', b'4.2', b'1.3', b'Iris-versicolor'],\n",
              "       [b'6.2', b'2.9', b'4.3', b'1.3', b'Iris-versicolor'],\n",
              "       [b'5.1', nan, b'3.0', b'1.1', b'Iris-versicolor'],\n",
              "       [b'5.7', b'2.8', b'4.1', b'1.3', b'Iris-versicolor'],\n",
              "       [b'6.3', b'3.3', b'6.0', b'2.5', b'Iris-virginica'],\n",
              "       [b'5.8', b'2.7', b'5.1', b'1.9', b'Iris-virginica'],\n",
              "       [b'7.1', b'3.0', b'5.9', b'2.1', b'Iris-virginica'],\n",
              "       [b'6.3', b'2.9', b'5.6', nan, b'Iris-virginica'],\n",
              "       [b'6.5', b'3.0', b'5.8', b'2.2', b'Iris-virginica'],\n",
              "       [b'7.6', b'3.0', b'6.6', b'2.1', b'Iris-virginica'],\n",
              "       [b'4.9', b'2.5', b'4.5', b'1.7', b'Iris-virginica'],\n",
              "       [b'7.3', b'2.9', b'6.3', nan, b'Iris-virginica'],\n",
              "       [b'6.7', b'2.5', b'5.8', b'1.8', b'Iris-virginica'],\n",
              "       [b'7.2', b'3.6', b'6.1', b'2.5', b'Iris-virginica'],\n",
              "       [b'6.5', b'3.2', b'5.1', b'2.0', b'Iris-virginica'],\n",
              "       [b'6.4', b'2.7', b'5.3', b'1.9', b'Iris-virginica'],\n",
              "       [b'6.8', b'3.0', b'5.5', b'2.1', b'Iris-virginica'],\n",
              "       [b'5.7', b'2.5', b'5.0', b'2.0', b'Iris-virginica'],\n",
              "       [b'5.8', b'2.8', b'5.1', b'2.4', b'Iris-virginica'],\n",
              "       [b'6.4', b'3.2', b'5.3', b'2.3', b'Iris-virginica'],\n",
              "       [b'6.5', b'3.0', b'5.5', b'1.8', b'Iris-virginica'],\n",
              "       [b'7.7', b'3.8', b'6.7', b'2.2', b'Iris-virginica'],\n",
              "       [b'7.7', b'2.6', b'6.9', b'2.3', b'Iris-virginica'],\n",
              "       [b'6.0', b'2.2', b'5.0', b'1.5', b'Iris-virginica'],\n",
              "       [b'6.9', b'3.2', b'5.7', b'2.3', b'Iris-virginica'],\n",
              "       [b'5.6', b'2.8', b'4.9', b'2.0', b'Iris-virginica'],\n",
              "       [b'7.7', b'2.8', b'6.7', b'2.0', b'Iris-virginica'],\n",
              "       [b'6.3', b'2.7', b'4.9', b'1.8', b'Iris-virginica'],\n",
              "       [b'6.7', b'3.3', b'5.7', b'2.1', b'Iris-virginica'],\n",
              "       [b'7.2', b'3.2', b'6.0', b'1.8', b'Iris-virginica'],\n",
              "       [b'6.2', b'2.8', b'4.8', b'1.8', b'Iris-virginica'],\n",
              "       [b'6.1', b'3.0', b'4.9', b'1.8', b'Iris-virginica'],\n",
              "       [b'6.4', b'2.8', b'5.6', b'2.1', b'Iris-virginica'],\n",
              "       [b'7.2', b'3.0', b'5.8', b'1.6', b'Iris-virginica'],\n",
              "       [b'7.4', b'2.8', b'6.1', b'1.9', b'Iris-virginica'],\n",
              "       [b'7.9', b'3.8', b'6.4', b'2.0', b'Iris-virginica'],\n",
              "       [b'6.4', b'2.8', b'5.6', b'2.2', b'Iris-virginica'],\n",
              "       [b'6.3', b'2.8', b'5.1', b'1.5', b'Iris-virginica'],\n",
              "       [b'6.1', b'2.6', b'5.6', b'1.4', b'Iris-virginica'],\n",
              "       [b'7.7', b'3.0', b'6.1', b'2.3', b'Iris-virginica'],\n",
              "       [b'6.3', b'3.4', b'5.6', b'2.4', b'Iris-virginica'],\n",
              "       [b'6.4', nan, b'5.5', b'1.8', b'Iris-virginica'],\n",
              "       [b'6.0', b'3.0', b'4.8', nan, b'Iris-virginica'],\n",
              "       [b'6.9', b'3.1', b'5.4', b'2.1', b'Iris-virginica'],\n",
              "       [b'6.7', b'3.1', b'5.6', b'2.4', b'Iris-virginica'],\n",
              "       [b'6.9', b'3.1', b'5.1', b'2.3', b'Iris-virginica'],\n",
              "       [b'5.8', b'2.7', b'5.1', b'1.9', b'Iris-virginica'],\n",
              "       [b'6.8', b'3.2', b'5.9', nan, b'Iris-virginica'],\n",
              "       [b'6.7', b'3.3', b'5.7', nan, b'Iris-virginica'],\n",
              "       [b'6.7', b'3.0', b'5.2', b'2.3', b'Iris-virginica'],\n",
              "       [b'6.3', b'2.5', b'5.0', b'1.9', b'Iris-virginica'],\n",
              "       [b'6.5', b'3.0', b'5.2', b'2.0', b'Iris-virginica'],\n",
              "       [b'6.2', b'3.4', b'5.4', b'2.3', b'Iris-virginica'],\n",
              "       [b'5.9', b'3.0', b'5.1', b'1.8', b'Iris-virginica']], dtype=object)"
            ]
          },
          "metadata": {},
          "execution_count": 26
        }
      ]
    },
    {
      "cell_type": "code",
      "source": [
        "url = '/content/drive/MyDrive/dataset/Iris.csv'\n",
        "iris_2d = np.genfromtxt(url, delimiter=',', dtype='float', usecols=[0,1,2,3])"
      ],
      "metadata": {
        "id": "OMTKd5QqcbAZ"
      },
      "execution_count": 40,
      "outputs": []
    },
    {
      "cell_type": "code",
      "source": [
        "dt = iris_2d[np.where((iris_2d[:,2] > 1.5) & (iris_2d[:,0] < 5.0))]\n",
        "dt"
      ],
      "metadata": {
        "colab": {
          "base_uri": "https://localhost:8080/"
        },
        "id": "vXWZ2jrUcbIC",
        "outputId": "45844347-b32b-4d01-ffbc-542c1038227d"
      },
      "execution_count": 41,
      "outputs": [
        {
          "output_type": "execute_result",
          "data": {
            "text/plain": [
              "array([[1. , 5.1, 3.5, 1.4],\n",
              "       [2. , 4.9, 3. , 1.4],\n",
              "       [3. , 4.7, 3.2, 1.3],\n",
              "       [4. , 4.6, 3.1, 1.5]])"
            ]
          },
          "metadata": {},
          "execution_count": 41
        }
      ]
    },
    {
      "cell_type": "code",
      "source": [
        "import numpy as np\n",
        "\n",
        "\n",
        "data = np.array([[1,2,3],\n",
        "                 [4,10,6],\n",
        "                 [7,8,9]\n",
        "                 ])\n",
        "print(data)\n",
        "\n",
        "\n",
        "\n",
        "\n",
        "clm1 = data[:,0]\n",
        "clm2 = data[:,1]\n",
        "\n",
        "print(clm1)\n",
        "print(clm2)\n",
        "\n",
        "\n",
        "correlation = np.corrcoef(clm1, clm2)[0,1]\n",
        "print(f\"Correlation between column 1 and column 2: {correlation}\")"
      ],
      "metadata": {
        "colab": {
          "base_uri": "https://localhost:8080/"
        },
        "id": "Y565MwChcbbZ",
        "outputId": "ca8794b7-02f2-42ff-c416-8ae69eea1ece"
      },
      "execution_count": 42,
      "outputs": [
        {
          "output_type": "stream",
          "name": "stdout",
          "text": [
            "[[ 1  2  3]\n",
            " [ 4 10  6]\n",
            " [ 7  8  9]]\n",
            "[1 4 7]\n",
            "[ 2 10  8]\n",
            "Correlation between column 1 and column 2: 0.720576692122892\n"
          ]
        }
      ]
    },
    {
      "cell_type": "code",
      "source": [
        "np.isnan(iris_2d).any()"
      ],
      "metadata": {
        "colab": {
          "base_uri": "https://localhost:8080/"
        },
        "id": "Nz4HvrQjcbja",
        "outputId": "a0574b42-0862-4558-9397-86e780831b98"
      },
      "execution_count": 30,
      "outputs": [
        {
          "output_type": "execute_result",
          "data": {
            "text/plain": [
              "False"
            ]
          },
          "metadata": {},
          "execution_count": 30
        }
      ]
    },
    {
      "cell_type": "code",
      "source": [
        "# Input\n",
        "url = '/content/drive/MyDrive/dataset/Iris.csv'\n",
        "iris_2d = np.genfromtxt(url, delimiter=',', dtype='float', usecols=[0,1,2,3])\n",
        "iris_2d[np.random.randint(150, size=20), np.random.randint(4, size=20)] = np.nan"
      ],
      "metadata": {
        "id": "4khd7IE8cb4p"
      },
      "execution_count": 43,
      "outputs": []
    },
    {
      "cell_type": "code",
      "source": [
        "iris_2d"
      ],
      "metadata": {
        "colab": {
          "base_uri": "https://localhost:8080/"
        },
        "id": "offqlHJOccA5",
        "outputId": "5edec49a-25a6-41fe-d409-01efeead8531"
      },
      "execution_count": 44,
      "outputs": [
        {
          "output_type": "execute_result",
          "data": {
            "text/plain": [
              "array([[  nan,   nan,   nan,   nan],\n",
              "       [  1. ,   5.1,   3.5,   1.4],\n",
              "       [  2. ,   4.9,   nan,   1.4],\n",
              "       [  3. ,   4.7,   3.2,   1.3],\n",
              "       [  4. ,   4.6,   3.1,   1.5],\n",
              "       [  5. ,   5. ,   3.6,   1.4],\n",
              "       [  6. ,   5.4,   3.9,   1.7],\n",
              "       [  7. ,   4.6,   3.4,   1.4],\n",
              "       [  8. ,   5. ,   3.4,   1.5],\n",
              "       [  9. ,   4.4,   2.9,   1.4],\n",
              "       [ 10. ,   4.9,   3.1,   1.5],\n",
              "       [ 11. ,   5.4,   3.7,   1.5],\n",
              "       [ 12. ,   4.8,   3.4,   1.6],\n",
              "       [ 13. ,   4.8,   3. ,   nan],\n",
              "       [ 14. ,   nan,   3. ,   1.1],\n",
              "       [ 15. ,   5.8,   4. ,   1.2],\n",
              "       [ 16. ,   5.7,   4.4,   1.5],\n",
              "       [ 17. ,   5.4,   3.9,   nan],\n",
              "       [ 18. ,   5.1,   nan,   1.4],\n",
              "       [ 19. ,   5.7,   3.8,   1.7],\n",
              "       [ 20. ,   5.1,   3.8,   1.5],\n",
              "       [ 21. ,   5.4,   3.4,   1.7],\n",
              "       [ 22. ,   5.1,   3.7,   1.5],\n",
              "       [ 23. ,   4.6,   3.6,   1. ],\n",
              "       [ 24. ,   5.1,   3.3,   1.7],\n",
              "       [ 25. ,   4.8,   3.4,   1.9],\n",
              "       [ 26. ,   5. ,   3. ,   1.6],\n",
              "       [ 27. ,   nan,   3.4,   1.6],\n",
              "       [ 28. ,   5.2,   3.5,   1.5],\n",
              "       [ 29. ,   5.2,   3.4,   1.4],\n",
              "       [ 30. ,   4.7,   3.2,   nan],\n",
              "       [ 31. ,   4.8,   3.1,   1.6],\n",
              "       [ 32. ,   5.4,   3.4,   1.5],\n",
              "       [ 33. ,   5.2,   4.1,   1.5],\n",
              "       [ 34. ,   5.5,   4.2,   1.4],\n",
              "       [ 35. ,   4.9,   3.1,   1.5],\n",
              "       [ 36. ,   5. ,   3.2,   1.2],\n",
              "       [ 37. ,   5.5,   3.5,   1.3],\n",
              "       [  nan,   4.9,   3.1,   1.5],\n",
              "       [ 39. ,   4.4,   3. ,   1.3],\n",
              "       [ 40. ,   5.1,   3.4,   1.5],\n",
              "       [ 41. ,   5. ,   3.5,   1.3],\n",
              "       [ 42. ,   4.5,   2.3,   1.3],\n",
              "       [ 43. ,   4.4,   3.2,   1.3],\n",
              "       [ 44. ,   5. ,   3.5,   1.6],\n",
              "       [ 45. ,   5.1,   3.8,   1.9],\n",
              "       [ 46. ,   4.8,   3. ,   1.4],\n",
              "       [ 47. ,   nan,   3.8,   1.6],\n",
              "       [ 48. ,   4.6,   3.2,   1.4],\n",
              "       [ 49. ,   5.3,   3.7,   1.5],\n",
              "       [ 50. ,   5. ,   3.3,   1.4],\n",
              "       [ 51. ,   7. ,   3.2,   4.7],\n",
              "       [ 52. ,   6.4,   3.2,   4.5],\n",
              "       [ 53. ,   6.9,   3.1,   4.9],\n",
              "       [ 54. ,   5.5,   2.3,   4. ],\n",
              "       [ 55. ,   6.5,   2.8,   4.6],\n",
              "       [ 56. ,   5.7,   nan,   4.5],\n",
              "       [ 57. ,   6.3,   3.3,   4.7],\n",
              "       [ 58. ,   4.9,   2.4,   3.3],\n",
              "       [ 59. ,   6.6,   2.9,   4.6],\n",
              "       [ 60. ,   5.2,   2.7,   3.9],\n",
              "       [ 61. ,   nan,   2. ,   3.5],\n",
              "       [ 62. ,   5.9,   3. ,   4.2],\n",
              "       [ 63. ,   6. ,   2.2,   nan],\n",
              "       [ 64. ,   6.1,   2.9,   4.7],\n",
              "       [ 65. ,   5.6,   2.9,   3.6],\n",
              "       [ 66. ,   6.7,   3.1,   4.4],\n",
              "       [ 67. ,   5.6,   3. ,   4.5],\n",
              "       [ 68. ,   5.8,   2.7,   4.1],\n",
              "       [ 69. ,   6.2,   2.2,   4.5],\n",
              "       [ 70. ,   5.6,   2.5,   3.9],\n",
              "       [ 71. ,   5.9,   3.2,   4.8],\n",
              "       [ 72. ,   6.1,   nan,   4. ],\n",
              "       [ 73. ,   6.3,   2.5,   4.9],\n",
              "       [ 74. ,   6.1,   2.8,   4.7],\n",
              "       [ 75. ,   6.4,   2.9,   4.3],\n",
              "       [ 76. ,   6.6,   3. ,   4.4],\n",
              "       [ 77. ,   6.8,   2.8,   4.8],\n",
              "       [ 78. ,   6.7,   3. ,   5. ],\n",
              "       [ 79. ,   6. ,   2.9,   4.5],\n",
              "       [  nan,   5.7,   2.6,   3.5],\n",
              "       [ 81. ,   5.5,   2.4,   3.8],\n",
              "       [ 82. ,   5.5,   2.4,   3.7],\n",
              "       [ 83. ,   5.8,   2.7,   3.9],\n",
              "       [ 84. ,   6. ,   2.7,   5.1],\n",
              "       [ 85. ,   5.4,   3. ,   4.5],\n",
              "       [ 86. ,   6. ,   3.4,   4.5],\n",
              "       [ 87. ,   6.7,   3.1,   4.7],\n",
              "       [ 88. ,   6.3,   2.3,   4.4],\n",
              "       [ 89. ,   5.6,   3. ,   4.1],\n",
              "       [ 90. ,   5.5,   2.5,   4. ],\n",
              "       [ 91. ,   5.5,   2.6,   4.4],\n",
              "       [ 92. ,   6.1,   3. ,   4.6],\n",
              "       [ 93. ,   5.8,   2.6,   4. ],\n",
              "       [ 94. ,   5. ,   2.3,   3.3],\n",
              "       [ 95. ,   5.6,   2.7,   4.2],\n",
              "       [ 96. ,   5.7,   3. ,   4.2],\n",
              "       [ 97. ,   5.7,   2.9,   4.2],\n",
              "       [ 98. ,   6.2,   2.9,   4.3],\n",
              "       [ 99. ,   5.1,   2.5,   3. ],\n",
              "       [100. ,   5.7,   2.8,   4.1],\n",
              "       [101. ,   6.3,   3.3,   6. ],\n",
              "       [102. ,   5.8,   2.7,   5.1],\n",
              "       [103. ,   7.1,   3. ,   5.9],\n",
              "       [104. ,   6.3,   2.9,   5.6],\n",
              "       [105. ,   6.5,   3. ,   nan],\n",
              "       [  nan,   7.6,   3. ,   6.6],\n",
              "       [107. ,   4.9,   2.5,   4.5],\n",
              "       [108. ,   7.3,   2.9,   6.3],\n",
              "       [109. ,   nan,   2.5,   5.8],\n",
              "       [110. ,   7.2,   3.6,   6.1],\n",
              "       [111. ,   6.5,   3.2,   5.1],\n",
              "       [112. ,   6.4,   2.7,   5.3],\n",
              "       [  nan,   6.8,   3. ,   5.5],\n",
              "       [114. ,   5.7,   2.5,   5. ],\n",
              "       [115. ,   5.8,   2.8,   5.1],\n",
              "       [116. ,   6.4,   3.2,   5.3],\n",
              "       [117. ,   6.5,   3. ,   5.5],\n",
              "       [118. ,   7.7,   3.8,   6.7],\n",
              "       [119. ,   7.7,   2.6,   6.9],\n",
              "       [120. ,   6. ,   2.2,   5. ],\n",
              "       [  nan,   6.9,   3.2,   5.7],\n",
              "       [122. ,   5.6,   2.8,   4.9],\n",
              "       [123. ,   7.7,   2.8,   6.7],\n",
              "       [124. ,   6.3,   2.7,   4.9],\n",
              "       [125. ,   6.7,   3.3,   5.7],\n",
              "       [126. ,   7.2,   3.2,   6. ],\n",
              "       [127. ,   6.2,   2.8,   4.8],\n",
              "       [128. ,   6.1,   3. ,   4.9],\n",
              "       [129. ,   6.4,   2.8,   5.6],\n",
              "       [130. ,   7.2,   3. ,   5.8],\n",
              "       [131. ,   7.4,   2.8,   6.1],\n",
              "       [132. ,   7.9,   3.8,   6.4],\n",
              "       [133. ,   6.4,   2.8,   5.6],\n",
              "       [134. ,   6.3,   2.8,   5.1],\n",
              "       [135. ,   6.1,   2.6,   5.6],\n",
              "       [136. ,   7.7,   3. ,   6.1],\n",
              "       [137. ,   6.3,   3.4,   5.6],\n",
              "       [138. ,   6.4,   3.1,   5.5],\n",
              "       [139. ,   6. ,   3. ,   4.8],\n",
              "       [140. ,   6.9,   3.1,   5.4],\n",
              "       [141. ,   6.7,   3.1,   5.6],\n",
              "       [142. ,   6.9,   3.1,   5.1],\n",
              "       [143. ,   5.8,   2.7,   5.1],\n",
              "       [144. ,   6.8,   3.2,   5.9],\n",
              "       [145. ,   6.7,   3.3,   5.7],\n",
              "       [146. ,   6.7,   3. ,   5.2],\n",
              "       [147. ,   6.3,   2.5,   nan],\n",
              "       [148. ,   6.5,   3. ,   5.2],\n",
              "       [149. ,   6.2,   3.4,   5.4],\n",
              "       [150. ,   5.9,   3. ,   5.1]])"
            ]
          },
          "metadata": {},
          "execution_count": 44
        }
      ]
    },
    {
      "cell_type": "code",
      "source": [
        "iris_2d[np.isnan(iris_2d)] = 0"
      ],
      "metadata": {
        "id": "Gdd9gCu-ccJJ"
      },
      "execution_count": 34,
      "outputs": []
    },
    {
      "cell_type": "code",
      "source": [
        "iris_2d"
      ],
      "metadata": {
        "colab": {
          "base_uri": "https://localhost:8080/"
        },
        "id": "HoHssGy_ccQp",
        "outputId": "121bb9ab-197a-4409-961b-d010d4cdd8ac"
      },
      "execution_count": 35,
      "outputs": [
        {
          "output_type": "execute_result",
          "data": {
            "text/plain": [
              "array([[5.1, 3.5, 1.4, 0.2],\n",
              "       [4.9, 3. , 1.4, 0.2],\n",
              "       [4.7, 3.2, 0. , 0.2],\n",
              "       [4.6, 3.1, 1.5, 0.2],\n",
              "       [5. , 3.6, 1.4, 0.2],\n",
              "       [5.4, 3.9, 1.7, 0.4],\n",
              "       [4.6, 3.4, 1.4, 0.3],\n",
              "       [5. , 3.4, 1.5, 0.2],\n",
              "       [4.4, 2.9, 1.4, 0.2],\n",
              "       [4.9, 3.1, 1.5, 0.1],\n",
              "       [5.4, 3.7, 1.5, 0.2],\n",
              "       [4.8, 3.4, 1.6, 0.2],\n",
              "       [4.8, 3. , 1.4, 0.1],\n",
              "       [4.3, 3. , 1.1, 0. ],\n",
              "       [5.8, 0. , 1.2, 0.2],\n",
              "       [5.7, 4.4, 1.5, 0.4],\n",
              "       [5.4, 3.9, 1.3, 0.4],\n",
              "       [5.1, 3.5, 1.4, 0. ],\n",
              "       [5.7, 3.8, 0. , 0.3],\n",
              "       [5.1, 3.8, 1.5, 0.3],\n",
              "       [5.4, 3.4, 1.7, 0.2],\n",
              "       [5.1, 3.7, 1.5, 0.4],\n",
              "       [4.6, 3.6, 1. , 0.2],\n",
              "       [5.1, 3.3, 1.7, 0.5],\n",
              "       [4.8, 3.4, 1.9, 0.2],\n",
              "       [5. , 3. , 1.6, 0.2],\n",
              "       [5. , 3.4, 1.6, 0.4],\n",
              "       [5.2, 0. , 1.5, 0.2],\n",
              "       [5.2, 3.4, 1.4, 0.2],\n",
              "       [4.7, 3.2, 1.6, 0.2],\n",
              "       [4.8, 3.1, 1.6, 0. ],\n",
              "       [5.4, 3.4, 1.5, 0.4],\n",
              "       [5.2, 4.1, 1.5, 0.1],\n",
              "       [5.5, 4.2, 1.4, 0.2],\n",
              "       [4.9, 3.1, 1.5, 0.1],\n",
              "       [5. , 3.2, 1.2, 0.2],\n",
              "       [5.5, 3.5, 1.3, 0.2],\n",
              "       [4.9, 3.1, 1.5, 0.1],\n",
              "       [0. , 3. , 1.3, 0.2],\n",
              "       [5.1, 3.4, 1.5, 0.2],\n",
              "       [5. , 3.5, 1.3, 0.3],\n",
              "       [4.5, 2.3, 1.3, 0.3],\n",
              "       [4.4, 3.2, 1.3, 0.2],\n",
              "       [5. , 3.5, 1.6, 0.6],\n",
              "       [5.1, 3.8, 1.9, 0.4],\n",
              "       [4.8, 3. , 1.4, 0.3],\n",
              "       [5.1, 3.8, 1.6, 0.2],\n",
              "       [4.6, 0. , 1.4, 0.2],\n",
              "       [5.3, 3.7, 1.5, 0.2],\n",
              "       [5. , 3.3, 1.4, 0.2],\n",
              "       [7. , 3.2, 4.7, 1.4],\n",
              "       [6.4, 3.2, 4.5, 1.5],\n",
              "       [6.9, 3.1, 4.9, 1.5],\n",
              "       [5.5, 2.3, 4. , 1.3],\n",
              "       [6.5, 2.8, 4.6, 1.5],\n",
              "       [5.7, 2.8, 4.5, 1.3],\n",
              "       [6.3, 3.3, 0. , 1.6],\n",
              "       [4.9, 2.4, 3.3, 1. ],\n",
              "       [6.6, 2.9, 4.6, 1.3],\n",
              "       [5.2, 2.7, 3.9, 1.4],\n",
              "       [5. , 2. , 3.5, 1. ],\n",
              "       [5.9, 0. , 4.2, 1.5],\n",
              "       [6. , 2.2, 4. , 1. ],\n",
              "       [6.1, 2.9, 4.7, 0. ],\n",
              "       [5.6, 2.9, 3.6, 1.3],\n",
              "       [6.7, 3.1, 4.4, 1.4],\n",
              "       [5.6, 3. , 4.5, 1.5],\n",
              "       [5.8, 2.7, 4.1, 1. ],\n",
              "       [6.2, 2.2, 4.5, 1.5],\n",
              "       [5.6, 2.5, 3.9, 1.1],\n",
              "       [5.9, 3.2, 4.8, 1.8],\n",
              "       [6.1, 2.8, 4. , 1.3],\n",
              "       [6.3, 2.5, 0. , 1.5],\n",
              "       [6.1, 2.8, 4.7, 1.2],\n",
              "       [6.4, 2.9, 4.3, 1.3],\n",
              "       [6.6, 3. , 4.4, 1.4],\n",
              "       [6.8, 2.8, 4.8, 1.4],\n",
              "       [6.7, 3. , 5. , 1.7],\n",
              "       [6. , 2.9, 4.5, 1.5],\n",
              "       [5.7, 2.6, 3.5, 1. ],\n",
              "       [0. , 2.4, 3.8, 1.1],\n",
              "       [5.5, 2.4, 3.7, 1. ],\n",
              "       [5.8, 2.7, 3.9, 1.2],\n",
              "       [6. , 2.7, 5.1, 1.6],\n",
              "       [5.4, 3. , 4.5, 1.5],\n",
              "       [6. , 3.4, 4.5, 1.6],\n",
              "       [6.7, 3.1, 4.7, 1.5],\n",
              "       [6.3, 2.3, 4.4, 1.3],\n",
              "       [5.6, 3. , 4.1, 1.3],\n",
              "       [5.5, 2.5, 4. , 1.3],\n",
              "       [5.5, 2.6, 4.4, 1.2],\n",
              "       [6.1, 3. , 4.6, 1.4],\n",
              "       [5.8, 2.6, 4. , 1.2],\n",
              "       [5. , 2.3, 3.3, 1. ],\n",
              "       [5.6, 2.7, 4.2, 1.3],\n",
              "       [5.7, 3. , 4.2, 1.2],\n",
              "       [5.7, 2.9, 4.2, 1.3],\n",
              "       [6.2, 2.9, 4.3, 1.3],\n",
              "       [5.1, 2.5, 3. , 1.1],\n",
              "       [5.7, 2.8, 4.1, 1.3],\n",
              "       [6.3, 3.3, 6. , 2.5],\n",
              "       [5.8, 2.7, 5.1, 1.9],\n",
              "       [7.1, 3. , 5.9, 2.1],\n",
              "       [6.3, 2.9, 5.6, 1.8],\n",
              "       [6.5, 3. , 5.8, 2.2],\n",
              "       [7.6, 3. , 6.6, 0. ],\n",
              "       [0. , 2.5, 4.5, 1.7],\n",
              "       [7.3, 2.9, 6.3, 1.8],\n",
              "       [6.7, 2.5, 5.8, 1.8],\n",
              "       [7.2, 0. , 6.1, 2.5],\n",
              "       [6.5, 3.2, 5.1, 2. ],\n",
              "       [6.4, 2.7, 5.3, 1.9],\n",
              "       [6.8, 3. , 5.5, 2.1],\n",
              "       [0. , 2.5, 5. , 2. ],\n",
              "       [5.8, 2.8, 5.1, 2.4],\n",
              "       [6.4, 3.2, 5.3, 2.3],\n",
              "       [6.5, 3. , 5.5, 1.8],\n",
              "       [7.7, 3.8, 6.7, 2.2],\n",
              "       [7.7, 2.6, 6.9, 2.3],\n",
              "       [6. , 2.2, 5. , 1.5],\n",
              "       [6.9, 3.2, 5.7, 2.3],\n",
              "       [0. , 2.8, 4.9, 2. ],\n",
              "       [7.7, 2.8, 6.7, 2. ],\n",
              "       [6.3, 2.7, 4.9, 1.8],\n",
              "       [6.7, 3.3, 5.7, 2.1],\n",
              "       [7.2, 3.2, 6. , 1.8],\n",
              "       [6.2, 2.8, 4.8, 1.8],\n",
              "       [6.1, 3. , 4.9, 1.8],\n",
              "       [6.4, 2.8, 5.6, 2.1],\n",
              "       [7.2, 3. , 5.8, 1.6],\n",
              "       [7.4, 2.8, 6.1, 1.9],\n",
              "       [7.9, 3.8, 6.4, 2. ],\n",
              "       [6.4, 2.8, 5.6, 2.2],\n",
              "       [6.3, 2.8, 5.1, 1.5],\n",
              "       [6.1, 2.6, 5.6, 1.4],\n",
              "       [7.7, 3. , 6.1, 2.3],\n",
              "       [6.3, 3.4, 5.6, 2.4],\n",
              "       [6.4, 3.1, 5.5, 1.8],\n",
              "       [6. , 3. , 4.8, 1.8],\n",
              "       [6.9, 3.1, 5.4, 2.1],\n",
              "       [6.7, 3.1, 5.6, 2.4],\n",
              "       [6.9, 3.1, 5.1, 2.3],\n",
              "       [5.8, 2.7, 5.1, 1.9],\n",
              "       [6.8, 3.2, 5.9, 2.3],\n",
              "       [6.7, 3.3, 5.7, 2.5],\n",
              "       [6.7, 3. , 5.2, 2.3],\n",
              "       [6.3, 2.5, 5. , 1.9],\n",
              "       [6.5, 3. , 5.2, 0. ],\n",
              "       [6.2, 3.4, 5.4, 2.3],\n",
              "       [5.9, 3. , 5.1, 1.8]])"
            ]
          },
          "metadata": {},
          "execution_count": 35
        }
      ]
    },
    {
      "cell_type": "code",
      "source": [
        "# Input\n",
        "url = '/content/drive/MyDrive/dataset/Iris.csv'\n",
        "iris = np.genfromtxt(url, delimiter=',', dtype='object')\n",
        "names = ('sepallength', 'sepalwidth', 'petallength', 'petalwidth', 'species')"
      ],
      "metadata": {
        "id": "A5Jf6OUmccYi"
      },
      "execution_count": 45,
      "outputs": []
    },
    {
      "cell_type": "code",
      "source": [
        "iris"
      ],
      "metadata": {
        "colab": {
          "base_uri": "https://localhost:8080/"
        },
        "id": "JDMLc8GRccfh",
        "outputId": "0e58ab3c-3981-4ef1-a6c9-85082b009ae1"
      },
      "execution_count": 46,
      "outputs": [
        {
          "output_type": "execute_result",
          "data": {
            "text/plain": [
              "array([[b'Id', b'SepalLengthCm', b'SepalWidthCm', b'PetalLengthCm',\n",
              "        b'PetalWidthCm', b'Species'],\n",
              "       [b'1', b'5.1', b'3.5', b'1.4', b'0.2', b'Iris-setosa'],\n",
              "       [b'2', b'4.9', b'3.0', b'1.4', b'0.2', b'Iris-setosa'],\n",
              "       [b'3', b'4.7', b'3.2', b'1.3', b'0.2', b'Iris-setosa'],\n",
              "       [b'4', b'4.6', b'3.1', b'1.5', b'0.2', b'Iris-setosa'],\n",
              "       [b'5', b'5.0', b'3.6', b'1.4', b'0.2', b'Iris-setosa'],\n",
              "       [b'6', b'5.4', b'3.9', b'1.7', b'0.4', b'Iris-setosa'],\n",
              "       [b'7', b'4.6', b'3.4', b'1.4', b'0.3', b'Iris-setosa'],\n",
              "       [b'8', b'5.0', b'3.4', b'1.5', b'0.2', b'Iris-setosa'],\n",
              "       [b'9', b'4.4', b'2.9', b'1.4', b'0.2', b'Iris-setosa'],\n",
              "       [b'10', b'4.9', b'3.1', b'1.5', b'0.1', b'Iris-setosa'],\n",
              "       [b'11', b'5.4', b'3.7', b'1.5', b'0.2', b'Iris-setosa'],\n",
              "       [b'12', b'4.8', b'3.4', b'1.6', b'0.2', b'Iris-setosa'],\n",
              "       [b'13', b'4.8', b'3.0', b'1.4', b'0.1', b'Iris-setosa'],\n",
              "       [b'14', b'4.3', b'3.0', b'1.1', b'0.1', b'Iris-setosa'],\n",
              "       [b'15', b'5.8', b'4.0', b'1.2', b'0.2', b'Iris-setosa'],\n",
              "       [b'16', b'5.7', b'4.4', b'1.5', b'0.4', b'Iris-setosa'],\n",
              "       [b'17', b'5.4', b'3.9', b'1.3', b'0.4', b'Iris-setosa'],\n",
              "       [b'18', b'5.1', b'3.5', b'1.4', b'0.3', b'Iris-setosa'],\n",
              "       [b'19', b'5.7', b'3.8', b'1.7', b'0.3', b'Iris-setosa'],\n",
              "       [b'20', b'5.1', b'3.8', b'1.5', b'0.3', b'Iris-setosa'],\n",
              "       [b'21', b'5.4', b'3.4', b'1.7', b'0.2', b'Iris-setosa'],\n",
              "       [b'22', b'5.1', b'3.7', b'1.5', b'0.4', b'Iris-setosa'],\n",
              "       [b'23', b'4.6', b'3.6', b'1.0', b'0.2', b'Iris-setosa'],\n",
              "       [b'24', b'5.1', b'3.3', b'1.7', b'0.5', b'Iris-setosa'],\n",
              "       [b'25', b'4.8', b'3.4', b'1.9', b'0.2', b'Iris-setosa'],\n",
              "       [b'26', b'5.0', b'3.0', b'1.6', b'0.2', b'Iris-setosa'],\n",
              "       [b'27', b'5.0', b'3.4', b'1.6', b'0.4', b'Iris-setosa'],\n",
              "       [b'28', b'5.2', b'3.5', b'1.5', b'0.2', b'Iris-setosa'],\n",
              "       [b'29', b'5.2', b'3.4', b'1.4', b'0.2', b'Iris-setosa'],\n",
              "       [b'30', b'4.7', b'3.2', b'1.6', b'0.2', b'Iris-setosa'],\n",
              "       [b'31', b'4.8', b'3.1', b'1.6', b'0.2', b'Iris-setosa'],\n",
              "       [b'32', b'5.4', b'3.4', b'1.5', b'0.4', b'Iris-setosa'],\n",
              "       [b'33', b'5.2', b'4.1', b'1.5', b'0.1', b'Iris-setosa'],\n",
              "       [b'34', b'5.5', b'4.2', b'1.4', b'0.2', b'Iris-setosa'],\n",
              "       [b'35', b'4.9', b'3.1', b'1.5', b'0.1', b'Iris-setosa'],\n",
              "       [b'36', b'5.0', b'3.2', b'1.2', b'0.2', b'Iris-setosa'],\n",
              "       [b'37', b'5.5', b'3.5', b'1.3', b'0.2', b'Iris-setosa'],\n",
              "       [b'38', b'4.9', b'3.1', b'1.5', b'0.1', b'Iris-setosa'],\n",
              "       [b'39', b'4.4', b'3.0', b'1.3', b'0.2', b'Iris-setosa'],\n",
              "       [b'40', b'5.1', b'3.4', b'1.5', b'0.2', b'Iris-setosa'],\n",
              "       [b'41', b'5.0', b'3.5', b'1.3', b'0.3', b'Iris-setosa'],\n",
              "       [b'42', b'4.5', b'2.3', b'1.3', b'0.3', b'Iris-setosa'],\n",
              "       [b'43', b'4.4', b'3.2', b'1.3', b'0.2', b'Iris-setosa'],\n",
              "       [b'44', b'5.0', b'3.5', b'1.6', b'0.6', b'Iris-setosa'],\n",
              "       [b'45', b'5.1', b'3.8', b'1.9', b'0.4', b'Iris-setosa'],\n",
              "       [b'46', b'4.8', b'3.0', b'1.4', b'0.3', b'Iris-setosa'],\n",
              "       [b'47', b'5.1', b'3.8', b'1.6', b'0.2', b'Iris-setosa'],\n",
              "       [b'48', b'4.6', b'3.2', b'1.4', b'0.2', b'Iris-setosa'],\n",
              "       [b'49', b'5.3', b'3.7', b'1.5', b'0.2', b'Iris-setosa'],\n",
              "       [b'50', b'5.0', b'3.3', b'1.4', b'0.2', b'Iris-setosa'],\n",
              "       [b'51', b'7.0', b'3.2', b'4.7', b'1.4', b'Iris-versicolor'],\n",
              "       [b'52', b'6.4', b'3.2', b'4.5', b'1.5', b'Iris-versicolor'],\n",
              "       [b'53', b'6.9', b'3.1', b'4.9', b'1.5', b'Iris-versicolor'],\n",
              "       [b'54', b'5.5', b'2.3', b'4.0', b'1.3', b'Iris-versicolor'],\n",
              "       [b'55', b'6.5', b'2.8', b'4.6', b'1.5', b'Iris-versicolor'],\n",
              "       [b'56', b'5.7', b'2.8', b'4.5', b'1.3', b'Iris-versicolor'],\n",
              "       [b'57', b'6.3', b'3.3', b'4.7', b'1.6', b'Iris-versicolor'],\n",
              "       [b'58', b'4.9', b'2.4', b'3.3', b'1.0', b'Iris-versicolor'],\n",
              "       [b'59', b'6.6', b'2.9', b'4.6', b'1.3', b'Iris-versicolor'],\n",
              "       [b'60', b'5.2', b'2.7', b'3.9', b'1.4', b'Iris-versicolor'],\n",
              "       [b'61', b'5.0', b'2.0', b'3.5', b'1.0', b'Iris-versicolor'],\n",
              "       [b'62', b'5.9', b'3.0', b'4.2', b'1.5', b'Iris-versicolor'],\n",
              "       [b'63', b'6.0', b'2.2', b'4.0', b'1.0', b'Iris-versicolor'],\n",
              "       [b'64', b'6.1', b'2.9', b'4.7', b'1.4', b'Iris-versicolor'],\n",
              "       [b'65', b'5.6', b'2.9', b'3.6', b'1.3', b'Iris-versicolor'],\n",
              "       [b'66', b'6.7', b'3.1', b'4.4', b'1.4', b'Iris-versicolor'],\n",
              "       [b'67', b'5.6', b'3.0', b'4.5', b'1.5', b'Iris-versicolor'],\n",
              "       [b'68', b'5.8', b'2.7', b'4.1', b'1.0', b'Iris-versicolor'],\n",
              "       [b'69', b'6.2', b'2.2', b'4.5', b'1.5', b'Iris-versicolor'],\n",
              "       [b'70', b'5.6', b'2.5', b'3.9', b'1.1', b'Iris-versicolor'],\n",
              "       [b'71', b'5.9', b'3.2', b'4.8', b'1.8', b'Iris-versicolor'],\n",
              "       [b'72', b'6.1', b'2.8', b'4.0', b'1.3', b'Iris-versicolor'],\n",
              "       [b'73', b'6.3', b'2.5', b'4.9', b'1.5', b'Iris-versicolor'],\n",
              "       [b'74', b'6.1', b'2.8', b'4.7', b'1.2', b'Iris-versicolor'],\n",
              "       [b'75', b'6.4', b'2.9', b'4.3', b'1.3', b'Iris-versicolor'],\n",
              "       [b'76', b'6.6', b'3.0', b'4.4', b'1.4', b'Iris-versicolor'],\n",
              "       [b'77', b'6.8', b'2.8', b'4.8', b'1.4', b'Iris-versicolor'],\n",
              "       [b'78', b'6.7', b'3.0', b'5.0', b'1.7', b'Iris-versicolor'],\n",
              "       [b'79', b'6.0', b'2.9', b'4.5', b'1.5', b'Iris-versicolor'],\n",
              "       [b'80', b'5.7', b'2.6', b'3.5', b'1.0', b'Iris-versicolor'],\n",
              "       [b'81', b'5.5', b'2.4', b'3.8', b'1.1', b'Iris-versicolor'],\n",
              "       [b'82', b'5.5', b'2.4', b'3.7', b'1.0', b'Iris-versicolor'],\n",
              "       [b'83', b'5.8', b'2.7', b'3.9', b'1.2', b'Iris-versicolor'],\n",
              "       [b'84', b'6.0', b'2.7', b'5.1', b'1.6', b'Iris-versicolor'],\n",
              "       [b'85', b'5.4', b'3.0', b'4.5', b'1.5', b'Iris-versicolor'],\n",
              "       [b'86', b'6.0', b'3.4', b'4.5', b'1.6', b'Iris-versicolor'],\n",
              "       [b'87', b'6.7', b'3.1', b'4.7', b'1.5', b'Iris-versicolor'],\n",
              "       [b'88', b'6.3', b'2.3', b'4.4', b'1.3', b'Iris-versicolor'],\n",
              "       [b'89', b'5.6', b'3.0', b'4.1', b'1.3', b'Iris-versicolor'],\n",
              "       [b'90', b'5.5', b'2.5', b'4.0', b'1.3', b'Iris-versicolor'],\n",
              "       [b'91', b'5.5', b'2.6', b'4.4', b'1.2', b'Iris-versicolor'],\n",
              "       [b'92', b'6.1', b'3.0', b'4.6', b'1.4', b'Iris-versicolor'],\n",
              "       [b'93', b'5.8', b'2.6', b'4.0', b'1.2', b'Iris-versicolor'],\n",
              "       [b'94', b'5.0', b'2.3', b'3.3', b'1.0', b'Iris-versicolor'],\n",
              "       [b'95', b'5.6', b'2.7', b'4.2', b'1.3', b'Iris-versicolor'],\n",
              "       [b'96', b'5.7', b'3.0', b'4.2', b'1.2', b'Iris-versicolor'],\n",
              "       [b'97', b'5.7', b'2.9', b'4.2', b'1.3', b'Iris-versicolor'],\n",
              "       [b'98', b'6.2', b'2.9', b'4.3', b'1.3', b'Iris-versicolor'],\n",
              "       [b'99', b'5.1', b'2.5', b'3.0', b'1.1', b'Iris-versicolor'],\n",
              "       [b'100', b'5.7', b'2.8', b'4.1', b'1.3', b'Iris-versicolor'],\n",
              "       [b'101', b'6.3', b'3.3', b'6.0', b'2.5', b'Iris-virginica'],\n",
              "       [b'102', b'5.8', b'2.7', b'5.1', b'1.9', b'Iris-virginica'],\n",
              "       [b'103', b'7.1', b'3.0', b'5.9', b'2.1', b'Iris-virginica'],\n",
              "       [b'104', b'6.3', b'2.9', b'5.6', b'1.8', b'Iris-virginica'],\n",
              "       [b'105', b'6.5', b'3.0', b'5.8', b'2.2', b'Iris-virginica'],\n",
              "       [b'106', b'7.6', b'3.0', b'6.6', b'2.1', b'Iris-virginica'],\n",
              "       [b'107', b'4.9', b'2.5', b'4.5', b'1.7', b'Iris-virginica'],\n",
              "       [b'108', b'7.3', b'2.9', b'6.3', b'1.8', b'Iris-virginica'],\n",
              "       [b'109', b'6.7', b'2.5', b'5.8', b'1.8', b'Iris-virginica'],\n",
              "       [b'110', b'7.2', b'3.6', b'6.1', b'2.5', b'Iris-virginica'],\n",
              "       [b'111', b'6.5', b'3.2', b'5.1', b'2.0', b'Iris-virginica'],\n",
              "       [b'112', b'6.4', b'2.7', b'5.3', b'1.9', b'Iris-virginica'],\n",
              "       [b'113', b'6.8', b'3.0', b'5.5', b'2.1', b'Iris-virginica'],\n",
              "       [b'114', b'5.7', b'2.5', b'5.0', b'2.0', b'Iris-virginica'],\n",
              "       [b'115', b'5.8', b'2.8', b'5.1', b'2.4', b'Iris-virginica'],\n",
              "       [b'116', b'6.4', b'3.2', b'5.3', b'2.3', b'Iris-virginica'],\n",
              "       [b'117', b'6.5', b'3.0', b'5.5', b'1.8', b'Iris-virginica'],\n",
              "       [b'118', b'7.7', b'3.8', b'6.7', b'2.2', b'Iris-virginica'],\n",
              "       [b'119', b'7.7', b'2.6', b'6.9', b'2.3', b'Iris-virginica'],\n",
              "       [b'120', b'6.0', b'2.2', b'5.0', b'1.5', b'Iris-virginica'],\n",
              "       [b'121', b'6.9', b'3.2', b'5.7', b'2.3', b'Iris-virginica'],\n",
              "       [b'122', b'5.6', b'2.8', b'4.9', b'2.0', b'Iris-virginica'],\n",
              "       [b'123', b'7.7', b'2.8', b'6.7', b'2.0', b'Iris-virginica'],\n",
              "       [b'124', b'6.3', b'2.7', b'4.9', b'1.8', b'Iris-virginica'],\n",
              "       [b'125', b'6.7', b'3.3', b'5.7', b'2.1', b'Iris-virginica'],\n",
              "       [b'126', b'7.2', b'3.2', b'6.0', b'1.8', b'Iris-virginica'],\n",
              "       [b'127', b'6.2', b'2.8', b'4.8', b'1.8', b'Iris-virginica'],\n",
              "       [b'128', b'6.1', b'3.0', b'4.9', b'1.8', b'Iris-virginica'],\n",
              "       [b'129', b'6.4', b'2.8', b'5.6', b'2.1', b'Iris-virginica'],\n",
              "       [b'130', b'7.2', b'3.0', b'5.8', b'1.6', b'Iris-virginica'],\n",
              "       [b'131', b'7.4', b'2.8', b'6.1', b'1.9', b'Iris-virginica'],\n",
              "       [b'132', b'7.9', b'3.8', b'6.4', b'2.0', b'Iris-virginica'],\n",
              "       [b'133', b'6.4', b'2.8', b'5.6', b'2.2', b'Iris-virginica'],\n",
              "       [b'134', b'6.3', b'2.8', b'5.1', b'1.5', b'Iris-virginica'],\n",
              "       [b'135', b'6.1', b'2.6', b'5.6', b'1.4', b'Iris-virginica'],\n",
              "       [b'136', b'7.7', b'3.0', b'6.1', b'2.3', b'Iris-virginica'],\n",
              "       [b'137', b'6.3', b'3.4', b'5.6', b'2.4', b'Iris-virginica'],\n",
              "       [b'138', b'6.4', b'3.1', b'5.5', b'1.8', b'Iris-virginica'],\n",
              "       [b'139', b'6.0', b'3.0', b'4.8', b'1.8', b'Iris-virginica'],\n",
              "       [b'140', b'6.9', b'3.1', b'5.4', b'2.1', b'Iris-virginica'],\n",
              "       [b'141', b'6.7', b'3.1', b'5.6', b'2.4', b'Iris-virginica'],\n",
              "       [b'142', b'6.9', b'3.1', b'5.1', b'2.3', b'Iris-virginica'],\n",
              "       [b'143', b'5.8', b'2.7', b'5.1', b'1.9', b'Iris-virginica'],\n",
              "       [b'144', b'6.8', b'3.2', b'5.9', b'2.3', b'Iris-virginica'],\n",
              "       [b'145', b'6.7', b'3.3', b'5.7', b'2.5', b'Iris-virginica'],\n",
              "       [b'146', b'6.7', b'3.0', b'5.2', b'2.3', b'Iris-virginica'],\n",
              "       [b'147', b'6.3', b'2.5', b'5.0', b'1.9', b'Iris-virginica'],\n",
              "       [b'148', b'6.5', b'3.0', b'5.2', b'2.0', b'Iris-virginica'],\n",
              "       [b'149', b'6.2', b'3.4', b'5.4', b'2.3', b'Iris-virginica'],\n",
              "       [b'150', b'5.9', b'3.0', b'5.1', b'1.8', b'Iris-virginica']],\n",
              "      dtype=object)"
            ]
          },
          "metadata": {},
          "execution_count": 46
        }
      ]
    },
    {
      "cell_type": "code",
      "source": [
        "np.unique(iris[:,5])"
      ],
      "metadata": {
        "colab": {
          "base_uri": "https://localhost:8080/"
        },
        "id": "r1y0SzoiccnJ",
        "outputId": "4658278f-319e-4324-dd98-c3d48e718efd"
      },
      "execution_count": 48,
      "outputs": [
        {
          "output_type": "execute_result",
          "data": {
            "text/plain": [
              "array([b'Iris-setosa', b'Iris-versicolor', b'Iris-virginica', b'Species'],\n",
              "      dtype=object)"
            ]
          },
          "metadata": {},
          "execution_count": 48
        }
      ]
    },
    {
      "cell_type": "code",
      "source": [
        "# Input\n",
        "url = '/content/drive/MyDrive/dataset/Iris.csv'\n",
        "iris = np.genfromtxt(url, delimiter=',', dtype='object',skip_header=True)\n",
        "# names = ('sepallength', 'sepalwidth', 'petallength', 'petalwidth', 'species')"
      ],
      "metadata": {
        "id": "bVb9Q6exccvh"
      },
      "execution_count": 52,
      "outputs": []
    },
    {
      "cell_type": "code",
      "source": [
        "iris"
      ],
      "metadata": {
        "colab": {
          "base_uri": "https://localhost:8080/"
        },
        "id": "09CE-9lgpsaR",
        "outputId": "a351541e-3041-47ad-ee44-08b9ac15936f"
      },
      "execution_count": 53,
      "outputs": [
        {
          "output_type": "execute_result",
          "data": {
            "text/plain": [
              "array([[b'1', b'5.1', b'3.5', b'1.4', b'0.2', b'Iris-setosa'],\n",
              "       [b'2', b'4.9', b'3.0', b'1.4', b'0.2', b'Iris-setosa'],\n",
              "       [b'3', b'4.7', b'3.2', b'1.3', b'0.2', b'Iris-setosa'],\n",
              "       [b'4', b'4.6', b'3.1', b'1.5', b'0.2', b'Iris-setosa'],\n",
              "       [b'5', b'5.0', b'3.6', b'1.4', b'0.2', b'Iris-setosa'],\n",
              "       [b'6', b'5.4', b'3.9', b'1.7', b'0.4', b'Iris-setosa'],\n",
              "       [b'7', b'4.6', b'3.4', b'1.4', b'0.3', b'Iris-setosa'],\n",
              "       [b'8', b'5.0', b'3.4', b'1.5', b'0.2', b'Iris-setosa'],\n",
              "       [b'9', b'4.4', b'2.9', b'1.4', b'0.2', b'Iris-setosa'],\n",
              "       [b'10', b'4.9', b'3.1', b'1.5', b'0.1', b'Iris-setosa'],\n",
              "       [b'11', b'5.4', b'3.7', b'1.5', b'0.2', b'Iris-setosa'],\n",
              "       [b'12', b'4.8', b'3.4', b'1.6', b'0.2', b'Iris-setosa'],\n",
              "       [b'13', b'4.8', b'3.0', b'1.4', b'0.1', b'Iris-setosa'],\n",
              "       [b'14', b'4.3', b'3.0', b'1.1', b'0.1', b'Iris-setosa'],\n",
              "       [b'15', b'5.8', b'4.0', b'1.2', b'0.2', b'Iris-setosa'],\n",
              "       [b'16', b'5.7', b'4.4', b'1.5', b'0.4', b'Iris-setosa'],\n",
              "       [b'17', b'5.4', b'3.9', b'1.3', b'0.4', b'Iris-setosa'],\n",
              "       [b'18', b'5.1', b'3.5', b'1.4', b'0.3', b'Iris-setosa'],\n",
              "       [b'19', b'5.7', b'3.8', b'1.7', b'0.3', b'Iris-setosa'],\n",
              "       [b'20', b'5.1', b'3.8', b'1.5', b'0.3', b'Iris-setosa'],\n",
              "       [b'21', b'5.4', b'3.4', b'1.7', b'0.2', b'Iris-setosa'],\n",
              "       [b'22', b'5.1', b'3.7', b'1.5', b'0.4', b'Iris-setosa'],\n",
              "       [b'23', b'4.6', b'3.6', b'1.0', b'0.2', b'Iris-setosa'],\n",
              "       [b'24', b'5.1', b'3.3', b'1.7', b'0.5', b'Iris-setosa'],\n",
              "       [b'25', b'4.8', b'3.4', b'1.9', b'0.2', b'Iris-setosa'],\n",
              "       [b'26', b'5.0', b'3.0', b'1.6', b'0.2', b'Iris-setosa'],\n",
              "       [b'27', b'5.0', b'3.4', b'1.6', b'0.4', b'Iris-setosa'],\n",
              "       [b'28', b'5.2', b'3.5', b'1.5', b'0.2', b'Iris-setosa'],\n",
              "       [b'29', b'5.2', b'3.4', b'1.4', b'0.2', b'Iris-setosa'],\n",
              "       [b'30', b'4.7', b'3.2', b'1.6', b'0.2', b'Iris-setosa'],\n",
              "       [b'31', b'4.8', b'3.1', b'1.6', b'0.2', b'Iris-setosa'],\n",
              "       [b'32', b'5.4', b'3.4', b'1.5', b'0.4', b'Iris-setosa'],\n",
              "       [b'33', b'5.2', b'4.1', b'1.5', b'0.1', b'Iris-setosa'],\n",
              "       [b'34', b'5.5', b'4.2', b'1.4', b'0.2', b'Iris-setosa'],\n",
              "       [b'35', b'4.9', b'3.1', b'1.5', b'0.1', b'Iris-setosa'],\n",
              "       [b'36', b'5.0', b'3.2', b'1.2', b'0.2', b'Iris-setosa'],\n",
              "       [b'37', b'5.5', b'3.5', b'1.3', b'0.2', b'Iris-setosa'],\n",
              "       [b'38', b'4.9', b'3.1', b'1.5', b'0.1', b'Iris-setosa'],\n",
              "       [b'39', b'4.4', b'3.0', b'1.3', b'0.2', b'Iris-setosa'],\n",
              "       [b'40', b'5.1', b'3.4', b'1.5', b'0.2', b'Iris-setosa'],\n",
              "       [b'41', b'5.0', b'3.5', b'1.3', b'0.3', b'Iris-setosa'],\n",
              "       [b'42', b'4.5', b'2.3', b'1.3', b'0.3', b'Iris-setosa'],\n",
              "       [b'43', b'4.4', b'3.2', b'1.3', b'0.2', b'Iris-setosa'],\n",
              "       [b'44', b'5.0', b'3.5', b'1.6', b'0.6', b'Iris-setosa'],\n",
              "       [b'45', b'5.1', b'3.8', b'1.9', b'0.4', b'Iris-setosa'],\n",
              "       [b'46', b'4.8', b'3.0', b'1.4', b'0.3', b'Iris-setosa'],\n",
              "       [b'47', b'5.1', b'3.8', b'1.6', b'0.2', b'Iris-setosa'],\n",
              "       [b'48', b'4.6', b'3.2', b'1.4', b'0.2', b'Iris-setosa'],\n",
              "       [b'49', b'5.3', b'3.7', b'1.5', b'0.2', b'Iris-setosa'],\n",
              "       [b'50', b'5.0', b'3.3', b'1.4', b'0.2', b'Iris-setosa'],\n",
              "       [b'51', b'7.0', b'3.2', b'4.7', b'1.4', b'Iris-versicolor'],\n",
              "       [b'52', b'6.4', b'3.2', b'4.5', b'1.5', b'Iris-versicolor'],\n",
              "       [b'53', b'6.9', b'3.1', b'4.9', b'1.5', b'Iris-versicolor'],\n",
              "       [b'54', b'5.5', b'2.3', b'4.0', b'1.3', b'Iris-versicolor'],\n",
              "       [b'55', b'6.5', b'2.8', b'4.6', b'1.5', b'Iris-versicolor'],\n",
              "       [b'56', b'5.7', b'2.8', b'4.5', b'1.3', b'Iris-versicolor'],\n",
              "       [b'57', b'6.3', b'3.3', b'4.7', b'1.6', b'Iris-versicolor'],\n",
              "       [b'58', b'4.9', b'2.4', b'3.3', b'1.0', b'Iris-versicolor'],\n",
              "       [b'59', b'6.6', b'2.9', b'4.6', b'1.3', b'Iris-versicolor'],\n",
              "       [b'60', b'5.2', b'2.7', b'3.9', b'1.4', b'Iris-versicolor'],\n",
              "       [b'61', b'5.0', b'2.0', b'3.5', b'1.0', b'Iris-versicolor'],\n",
              "       [b'62', b'5.9', b'3.0', b'4.2', b'1.5', b'Iris-versicolor'],\n",
              "       [b'63', b'6.0', b'2.2', b'4.0', b'1.0', b'Iris-versicolor'],\n",
              "       [b'64', b'6.1', b'2.9', b'4.7', b'1.4', b'Iris-versicolor'],\n",
              "       [b'65', b'5.6', b'2.9', b'3.6', b'1.3', b'Iris-versicolor'],\n",
              "       [b'66', b'6.7', b'3.1', b'4.4', b'1.4', b'Iris-versicolor'],\n",
              "       [b'67', b'5.6', b'3.0', b'4.5', b'1.5', b'Iris-versicolor'],\n",
              "       [b'68', b'5.8', b'2.7', b'4.1', b'1.0', b'Iris-versicolor'],\n",
              "       [b'69', b'6.2', b'2.2', b'4.5', b'1.5', b'Iris-versicolor'],\n",
              "       [b'70', b'5.6', b'2.5', b'3.9', b'1.1', b'Iris-versicolor'],\n",
              "       [b'71', b'5.9', b'3.2', b'4.8', b'1.8', b'Iris-versicolor'],\n",
              "       [b'72', b'6.1', b'2.8', b'4.0', b'1.3', b'Iris-versicolor'],\n",
              "       [b'73', b'6.3', b'2.5', b'4.9', b'1.5', b'Iris-versicolor'],\n",
              "       [b'74', b'6.1', b'2.8', b'4.7', b'1.2', b'Iris-versicolor'],\n",
              "       [b'75', b'6.4', b'2.9', b'4.3', b'1.3', b'Iris-versicolor'],\n",
              "       [b'76', b'6.6', b'3.0', b'4.4', b'1.4', b'Iris-versicolor'],\n",
              "       [b'77', b'6.8', b'2.8', b'4.8', b'1.4', b'Iris-versicolor'],\n",
              "       [b'78', b'6.7', b'3.0', b'5.0', b'1.7', b'Iris-versicolor'],\n",
              "       [b'79', b'6.0', b'2.9', b'4.5', b'1.5', b'Iris-versicolor'],\n",
              "       [b'80', b'5.7', b'2.6', b'3.5', b'1.0', b'Iris-versicolor'],\n",
              "       [b'81', b'5.5', b'2.4', b'3.8', b'1.1', b'Iris-versicolor'],\n",
              "       [b'82', b'5.5', b'2.4', b'3.7', b'1.0', b'Iris-versicolor'],\n",
              "       [b'83', b'5.8', b'2.7', b'3.9', b'1.2', b'Iris-versicolor'],\n",
              "       [b'84', b'6.0', b'2.7', b'5.1', b'1.6', b'Iris-versicolor'],\n",
              "       [b'85', b'5.4', b'3.0', b'4.5', b'1.5', b'Iris-versicolor'],\n",
              "       [b'86', b'6.0', b'3.4', b'4.5', b'1.6', b'Iris-versicolor'],\n",
              "       [b'87', b'6.7', b'3.1', b'4.7', b'1.5', b'Iris-versicolor'],\n",
              "       [b'88', b'6.3', b'2.3', b'4.4', b'1.3', b'Iris-versicolor'],\n",
              "       [b'89', b'5.6', b'3.0', b'4.1', b'1.3', b'Iris-versicolor'],\n",
              "       [b'90', b'5.5', b'2.5', b'4.0', b'1.3', b'Iris-versicolor'],\n",
              "       [b'91', b'5.5', b'2.6', b'4.4', b'1.2', b'Iris-versicolor'],\n",
              "       [b'92', b'6.1', b'3.0', b'4.6', b'1.4', b'Iris-versicolor'],\n",
              "       [b'93', b'5.8', b'2.6', b'4.0', b'1.2', b'Iris-versicolor'],\n",
              "       [b'94', b'5.0', b'2.3', b'3.3', b'1.0', b'Iris-versicolor'],\n",
              "       [b'95', b'5.6', b'2.7', b'4.2', b'1.3', b'Iris-versicolor'],\n",
              "       [b'96', b'5.7', b'3.0', b'4.2', b'1.2', b'Iris-versicolor'],\n",
              "       [b'97', b'5.7', b'2.9', b'4.2', b'1.3', b'Iris-versicolor'],\n",
              "       [b'98', b'6.2', b'2.9', b'4.3', b'1.3', b'Iris-versicolor'],\n",
              "       [b'99', b'5.1', b'2.5', b'3.0', b'1.1', b'Iris-versicolor'],\n",
              "       [b'100', b'5.7', b'2.8', b'4.1', b'1.3', b'Iris-versicolor'],\n",
              "       [b'101', b'6.3', b'3.3', b'6.0', b'2.5', b'Iris-virginica'],\n",
              "       [b'102', b'5.8', b'2.7', b'5.1', b'1.9', b'Iris-virginica'],\n",
              "       [b'103', b'7.1', b'3.0', b'5.9', b'2.1', b'Iris-virginica'],\n",
              "       [b'104', b'6.3', b'2.9', b'5.6', b'1.8', b'Iris-virginica'],\n",
              "       [b'105', b'6.5', b'3.0', b'5.8', b'2.2', b'Iris-virginica'],\n",
              "       [b'106', b'7.6', b'3.0', b'6.6', b'2.1', b'Iris-virginica'],\n",
              "       [b'107', b'4.9', b'2.5', b'4.5', b'1.7', b'Iris-virginica'],\n",
              "       [b'108', b'7.3', b'2.9', b'6.3', b'1.8', b'Iris-virginica'],\n",
              "       [b'109', b'6.7', b'2.5', b'5.8', b'1.8', b'Iris-virginica'],\n",
              "       [b'110', b'7.2', b'3.6', b'6.1', b'2.5', b'Iris-virginica'],\n",
              "       [b'111', b'6.5', b'3.2', b'5.1', b'2.0', b'Iris-virginica'],\n",
              "       [b'112', b'6.4', b'2.7', b'5.3', b'1.9', b'Iris-virginica'],\n",
              "       [b'113', b'6.8', b'3.0', b'5.5', b'2.1', b'Iris-virginica'],\n",
              "       [b'114', b'5.7', b'2.5', b'5.0', b'2.0', b'Iris-virginica'],\n",
              "       [b'115', b'5.8', b'2.8', b'5.1', b'2.4', b'Iris-virginica'],\n",
              "       [b'116', b'6.4', b'3.2', b'5.3', b'2.3', b'Iris-virginica'],\n",
              "       [b'117', b'6.5', b'3.0', b'5.5', b'1.8', b'Iris-virginica'],\n",
              "       [b'118', b'7.7', b'3.8', b'6.7', b'2.2', b'Iris-virginica'],\n",
              "       [b'119', b'7.7', b'2.6', b'6.9', b'2.3', b'Iris-virginica'],\n",
              "       [b'120', b'6.0', b'2.2', b'5.0', b'1.5', b'Iris-virginica'],\n",
              "       [b'121', b'6.9', b'3.2', b'5.7', b'2.3', b'Iris-virginica'],\n",
              "       [b'122', b'5.6', b'2.8', b'4.9', b'2.0', b'Iris-virginica'],\n",
              "       [b'123', b'7.7', b'2.8', b'6.7', b'2.0', b'Iris-virginica'],\n",
              "       [b'124', b'6.3', b'2.7', b'4.9', b'1.8', b'Iris-virginica'],\n",
              "       [b'125', b'6.7', b'3.3', b'5.7', b'2.1', b'Iris-virginica'],\n",
              "       [b'126', b'7.2', b'3.2', b'6.0', b'1.8', b'Iris-virginica'],\n",
              "       [b'127', b'6.2', b'2.8', b'4.8', b'1.8', b'Iris-virginica'],\n",
              "       [b'128', b'6.1', b'3.0', b'4.9', b'1.8', b'Iris-virginica'],\n",
              "       [b'129', b'6.4', b'2.8', b'5.6', b'2.1', b'Iris-virginica'],\n",
              "       [b'130', b'7.2', b'3.0', b'5.8', b'1.6', b'Iris-virginica'],\n",
              "       [b'131', b'7.4', b'2.8', b'6.1', b'1.9', b'Iris-virginica'],\n",
              "       [b'132', b'7.9', b'3.8', b'6.4', b'2.0', b'Iris-virginica'],\n",
              "       [b'133', b'6.4', b'2.8', b'5.6', b'2.2', b'Iris-virginica'],\n",
              "       [b'134', b'6.3', b'2.8', b'5.1', b'1.5', b'Iris-virginica'],\n",
              "       [b'135', b'6.1', b'2.6', b'5.6', b'1.4', b'Iris-virginica'],\n",
              "       [b'136', b'7.7', b'3.0', b'6.1', b'2.3', b'Iris-virginica'],\n",
              "       [b'137', b'6.3', b'3.4', b'5.6', b'2.4', b'Iris-virginica'],\n",
              "       [b'138', b'6.4', b'3.1', b'5.5', b'1.8', b'Iris-virginica'],\n",
              "       [b'139', b'6.0', b'3.0', b'4.8', b'1.8', b'Iris-virginica'],\n",
              "       [b'140', b'6.9', b'3.1', b'5.4', b'2.1', b'Iris-virginica'],\n",
              "       [b'141', b'6.7', b'3.1', b'5.6', b'2.4', b'Iris-virginica'],\n",
              "       [b'142', b'6.9', b'3.1', b'5.1', b'2.3', b'Iris-virginica'],\n",
              "       [b'143', b'5.8', b'2.7', b'5.1', b'1.9', b'Iris-virginica'],\n",
              "       [b'144', b'6.8', b'3.2', b'5.9', b'2.3', b'Iris-virginica'],\n",
              "       [b'145', b'6.7', b'3.3', b'5.7', b'2.5', b'Iris-virginica'],\n",
              "       [b'146', b'6.7', b'3.0', b'5.2', b'2.3', b'Iris-virginica'],\n",
              "       [b'147', b'6.3', b'2.5', b'5.0', b'1.9', b'Iris-virginica'],\n",
              "       [b'148', b'6.5', b'3.0', b'5.2', b'2.0', b'Iris-virginica'],\n",
              "       [b'149', b'6.2', b'3.4', b'5.4', b'2.3', b'Iris-virginica'],\n",
              "       [b'150', b'5.9', b'3.0', b'5.1', b'1.8', b'Iris-virginica']],\n",
              "      dtype=object)"
            ]
          },
          "metadata": {},
          "execution_count": 53
        }
      ]
    },
    {
      "cell_type": "code",
      "source": [
        "category = np.array(['small', 'medium', 'large'])\n",
        "condition = [iris[:,2].astype('float') < 3\n",
        "              ,(3 <= iris[:,2].astype('float')) &  (iris[:,2].astype('float') < 5)\n",
        "              , 5 <= iris[:,2].astype('float')\n",
        "            ]\n",
        "\n",
        "catagoricaldata = np.select(condition, category)\n",
        "# print(catagoricaldata)\n",
        "np.column_stack((iris,np.array(catagoricaldata)))\n"
      ],
      "metadata": {
        "colab": {
          "base_uri": "https://localhost:8080/"
        },
        "id": "UpEKD724pseU",
        "outputId": "d63edd83-e768-42ce-df49-e3cad7e1ad01"
      },
      "execution_count": 54,
      "outputs": [
        {
          "output_type": "execute_result",
          "data": {
            "text/plain": [
              "array([[b'1', b'5.1', b'3.5', ..., b'0.2', b'Iris-setosa', 'medium'],\n",
              "       [b'2', b'4.9', b'3.0', ..., b'0.2', b'Iris-setosa', 'medium'],\n",
              "       [b'3', b'4.7', b'3.2', ..., b'0.2', b'Iris-setosa', 'medium'],\n",
              "       ...,\n",
              "       [b'148', b'6.5', b'3.0', ..., b'2.0', b'Iris-virginica', 'medium'],\n",
              "       [b'149', b'6.2', b'3.4', ..., b'2.3', b'Iris-virginica', 'medium'],\n",
              "       [b'150', b'5.9', b'3.0', ..., b'1.8', b'Iris-virginica', 'medium']],\n",
              "      dtype=object)"
            ]
          },
          "metadata": {},
          "execution_count": 54
        }
      ]
    },
    {
      "cell_type": "code",
      "source": [
        "np.column_stack((iris,np.array(catagoricaldata)))"
      ],
      "metadata": {
        "colab": {
          "base_uri": "https://localhost:8080/"
        },
        "id": "-UuvI0eZr0Os",
        "outputId": "e9ec3093-c849-4aec-cebf-e2d50880b3a6"
      },
      "execution_count": 55,
      "outputs": [
        {
          "output_type": "execute_result",
          "data": {
            "text/plain": [
              "array([[b'1', b'5.1', b'3.5', ..., b'0.2', b'Iris-setosa', 'medium'],\n",
              "       [b'2', b'4.9', b'3.0', ..., b'0.2', b'Iris-setosa', 'medium'],\n",
              "       [b'3', b'4.7', b'3.2', ..., b'0.2', b'Iris-setosa', 'medium'],\n",
              "       ...,\n",
              "       [b'148', b'6.5', b'3.0', ..., b'2.0', b'Iris-virginica', 'medium'],\n",
              "       [b'149', b'6.2', b'3.4', ..., b'2.3', b'Iris-virginica', 'medium'],\n",
              "       [b'150', b'5.9', b'3.0', ..., b'1.8', b'Iris-virginica', 'medium']],\n",
              "      dtype=object)"
            ]
          },
          "metadata": {},
          "execution_count": 55
        }
      ]
    },
    {
      "cell_type": "markdown",
      "source": [],
      "metadata": {
        "id": "3bJDzFCcrzpp"
      }
    },
    {
      "cell_type": "code",
      "source": [
        "sepallength = iris_2d[:, 0].astype('float')\n",
        "petallength = iris_2d[:, 2].astype('float')\n",
        "volume = (np.pi * petallength * (sepallength**2))/3\n",
        "\n",
        "# Introduce new dimension to match iris_2d's\n",
        "volume = volume[:, np.newaxis]\n",
        "volume\n",
        "\n",
        "np.hstack([iris,catagoricaldata[:,np.newaxis]])"
      ],
      "metadata": {
        "colab": {
          "base_uri": "https://localhost:8080/"
        },
        "id": "oubBbGIEpsiJ",
        "outputId": "1ff70a71-47c1-4b2c-97ca-3cbf09b4f79d"
      },
      "execution_count": 57,
      "outputs": [
        {
          "output_type": "execute_result",
          "data": {
            "text/plain": [
              "array([[b'1', b'5.1', b'3.5', ..., b'0.2', b'Iris-setosa', 'medium'],\n",
              "       [b'2', b'4.9', b'3.0', ..., b'0.2', b'Iris-setosa', 'medium'],\n",
              "       [b'3', b'4.7', b'3.2', ..., b'0.2', b'Iris-setosa', 'medium'],\n",
              "       ...,\n",
              "       [b'148', b'6.5', b'3.0', ..., b'2.0', b'Iris-virginica', 'medium'],\n",
              "       [b'149', b'6.2', b'3.4', ..., b'2.3', b'Iris-virginica', 'medium'],\n",
              "       [b'150', b'5.9', b'3.0', ..., b'1.8', b'Iris-virginica', 'medium']],\n",
              "      dtype=object)"
            ]
          },
          "metadata": {},
          "execution_count": 57
        }
      ]
    },
    {
      "cell_type": "code",
      "source": [
        "np.array(catagoricaldata)"
      ],
      "metadata": {
        "colab": {
          "base_uri": "https://localhost:8080/"
        },
        "id": "zWqCsOwOpslS",
        "outputId": "ec12d844-06ba-4017-d50d-319bae10b424"
      },
      "execution_count": 58,
      "outputs": [
        {
          "output_type": "execute_result",
          "data": {
            "text/plain": [
              "array(['medium', 'medium', 'medium', 'medium', 'medium', 'medium',\n",
              "       'medium', 'medium', 'small', 'medium', 'medium', 'medium',\n",
              "       'medium', 'medium', 'medium', 'medium', 'medium', 'medium',\n",
              "       'medium', 'medium', 'medium', 'medium', 'medium', 'medium',\n",
              "       'medium', 'medium', 'medium', 'medium', 'medium', 'medium',\n",
              "       'medium', 'medium', 'medium', 'medium', 'medium', 'medium',\n",
              "       'medium', 'medium', 'medium', 'medium', 'medium', 'small',\n",
              "       'medium', 'medium', 'medium', 'medium', 'medium', 'medium',\n",
              "       'medium', 'medium', 'medium', 'medium', 'medium', 'small', 'small',\n",
              "       'small', 'medium', 'small', 'small', 'small', 'small', 'medium',\n",
              "       'small', 'small', 'small', 'medium', 'medium', 'small', 'small',\n",
              "       'small', 'medium', 'small', 'small', 'small', 'small', 'medium',\n",
              "       'small', 'medium', 'small', 'small', 'small', 'small', 'small',\n",
              "       'small', 'medium', 'medium', 'medium', 'small', 'medium', 'small',\n",
              "       'small', 'medium', 'small', 'small', 'small', 'medium', 'small',\n",
              "       'small', 'small', 'small', 'medium', 'small', 'medium', 'small',\n",
              "       'medium', 'medium', 'small', 'small', 'small', 'medium', 'medium',\n",
              "       'small', 'medium', 'small', 'small', 'medium', 'medium', 'medium',\n",
              "       'small', 'small', 'medium', 'small', 'small', 'small', 'medium',\n",
              "       'medium', 'small', 'medium', 'small', 'medium', 'small', 'medium',\n",
              "       'small', 'small', 'small', 'medium', 'medium', 'medium', 'medium',\n",
              "       'medium', 'medium', 'medium', 'small', 'medium', 'medium',\n",
              "       'medium', 'small', 'medium', 'medium', 'medium'], dtype='<U6')"
            ]
          },
          "metadata": {},
          "execution_count": 58
        }
      ]
    },
    {
      "cell_type": "code",
      "source": [
        "iris"
      ],
      "metadata": {
        "colab": {
          "base_uri": "https://localhost:8080/"
        },
        "id": "qB4ONGp0psnu",
        "outputId": "a32f609f-9705-4994-e7d8-5570697e5261"
      },
      "execution_count": 59,
      "outputs": [
        {
          "output_type": "execute_result",
          "data": {
            "text/plain": [
              "array([[b'1', b'5.1', b'3.5', b'1.4', b'0.2', b'Iris-setosa'],\n",
              "       [b'2', b'4.9', b'3.0', b'1.4', b'0.2', b'Iris-setosa'],\n",
              "       [b'3', b'4.7', b'3.2', b'1.3', b'0.2', b'Iris-setosa'],\n",
              "       [b'4', b'4.6', b'3.1', b'1.5', b'0.2', b'Iris-setosa'],\n",
              "       [b'5', b'5.0', b'3.6', b'1.4', b'0.2', b'Iris-setosa'],\n",
              "       [b'6', b'5.4', b'3.9', b'1.7', b'0.4', b'Iris-setosa'],\n",
              "       [b'7', b'4.6', b'3.4', b'1.4', b'0.3', b'Iris-setosa'],\n",
              "       [b'8', b'5.0', b'3.4', b'1.5', b'0.2', b'Iris-setosa'],\n",
              "       [b'9', b'4.4', b'2.9', b'1.4', b'0.2', b'Iris-setosa'],\n",
              "       [b'10', b'4.9', b'3.1', b'1.5', b'0.1', b'Iris-setosa'],\n",
              "       [b'11', b'5.4', b'3.7', b'1.5', b'0.2', b'Iris-setosa'],\n",
              "       [b'12', b'4.8', b'3.4', b'1.6', b'0.2', b'Iris-setosa'],\n",
              "       [b'13', b'4.8', b'3.0', b'1.4', b'0.1', b'Iris-setosa'],\n",
              "       [b'14', b'4.3', b'3.0', b'1.1', b'0.1', b'Iris-setosa'],\n",
              "       [b'15', b'5.8', b'4.0', b'1.2', b'0.2', b'Iris-setosa'],\n",
              "       [b'16', b'5.7', b'4.4', b'1.5', b'0.4', b'Iris-setosa'],\n",
              "       [b'17', b'5.4', b'3.9', b'1.3', b'0.4', b'Iris-setosa'],\n",
              "       [b'18', b'5.1', b'3.5', b'1.4', b'0.3', b'Iris-setosa'],\n",
              "       [b'19', b'5.7', b'3.8', b'1.7', b'0.3', b'Iris-setosa'],\n",
              "       [b'20', b'5.1', b'3.8', b'1.5', b'0.3', b'Iris-setosa'],\n",
              "       [b'21', b'5.4', b'3.4', b'1.7', b'0.2', b'Iris-setosa'],\n",
              "       [b'22', b'5.1', b'3.7', b'1.5', b'0.4', b'Iris-setosa'],\n",
              "       [b'23', b'4.6', b'3.6', b'1.0', b'0.2', b'Iris-setosa'],\n",
              "       [b'24', b'5.1', b'3.3', b'1.7', b'0.5', b'Iris-setosa'],\n",
              "       [b'25', b'4.8', b'3.4', b'1.9', b'0.2', b'Iris-setosa'],\n",
              "       [b'26', b'5.0', b'3.0', b'1.6', b'0.2', b'Iris-setosa'],\n",
              "       [b'27', b'5.0', b'3.4', b'1.6', b'0.4', b'Iris-setosa'],\n",
              "       [b'28', b'5.2', b'3.5', b'1.5', b'0.2', b'Iris-setosa'],\n",
              "       [b'29', b'5.2', b'3.4', b'1.4', b'0.2', b'Iris-setosa'],\n",
              "       [b'30', b'4.7', b'3.2', b'1.6', b'0.2', b'Iris-setosa'],\n",
              "       [b'31', b'4.8', b'3.1', b'1.6', b'0.2', b'Iris-setosa'],\n",
              "       [b'32', b'5.4', b'3.4', b'1.5', b'0.4', b'Iris-setosa'],\n",
              "       [b'33', b'5.2', b'4.1', b'1.5', b'0.1', b'Iris-setosa'],\n",
              "       [b'34', b'5.5', b'4.2', b'1.4', b'0.2', b'Iris-setosa'],\n",
              "       [b'35', b'4.9', b'3.1', b'1.5', b'0.1', b'Iris-setosa'],\n",
              "       [b'36', b'5.0', b'3.2', b'1.2', b'0.2', b'Iris-setosa'],\n",
              "       [b'37', b'5.5', b'3.5', b'1.3', b'0.2', b'Iris-setosa'],\n",
              "       [b'38', b'4.9', b'3.1', b'1.5', b'0.1', b'Iris-setosa'],\n",
              "       [b'39', b'4.4', b'3.0', b'1.3', b'0.2', b'Iris-setosa'],\n",
              "       [b'40', b'5.1', b'3.4', b'1.5', b'0.2', b'Iris-setosa'],\n",
              "       [b'41', b'5.0', b'3.5', b'1.3', b'0.3', b'Iris-setosa'],\n",
              "       [b'42', b'4.5', b'2.3', b'1.3', b'0.3', b'Iris-setosa'],\n",
              "       [b'43', b'4.4', b'3.2', b'1.3', b'0.2', b'Iris-setosa'],\n",
              "       [b'44', b'5.0', b'3.5', b'1.6', b'0.6', b'Iris-setosa'],\n",
              "       [b'45', b'5.1', b'3.8', b'1.9', b'0.4', b'Iris-setosa'],\n",
              "       [b'46', b'4.8', b'3.0', b'1.4', b'0.3', b'Iris-setosa'],\n",
              "       [b'47', b'5.1', b'3.8', b'1.6', b'0.2', b'Iris-setosa'],\n",
              "       [b'48', b'4.6', b'3.2', b'1.4', b'0.2', b'Iris-setosa'],\n",
              "       [b'49', b'5.3', b'3.7', b'1.5', b'0.2', b'Iris-setosa'],\n",
              "       [b'50', b'5.0', b'3.3', b'1.4', b'0.2', b'Iris-setosa'],\n",
              "       [b'51', b'7.0', b'3.2', b'4.7', b'1.4', b'Iris-versicolor'],\n",
              "       [b'52', b'6.4', b'3.2', b'4.5', b'1.5', b'Iris-versicolor'],\n",
              "       [b'53', b'6.9', b'3.1', b'4.9', b'1.5', b'Iris-versicolor'],\n",
              "       [b'54', b'5.5', b'2.3', b'4.0', b'1.3', b'Iris-versicolor'],\n",
              "       [b'55', b'6.5', b'2.8', b'4.6', b'1.5', b'Iris-versicolor'],\n",
              "       [b'56', b'5.7', b'2.8', b'4.5', b'1.3', b'Iris-versicolor'],\n",
              "       [b'57', b'6.3', b'3.3', b'4.7', b'1.6', b'Iris-versicolor'],\n",
              "       [b'58', b'4.9', b'2.4', b'3.3', b'1.0', b'Iris-versicolor'],\n",
              "       [b'59', b'6.6', b'2.9', b'4.6', b'1.3', b'Iris-versicolor'],\n",
              "       [b'60', b'5.2', b'2.7', b'3.9', b'1.4', b'Iris-versicolor'],\n",
              "       [b'61', b'5.0', b'2.0', b'3.5', b'1.0', b'Iris-versicolor'],\n",
              "       [b'62', b'5.9', b'3.0', b'4.2', b'1.5', b'Iris-versicolor'],\n",
              "       [b'63', b'6.0', b'2.2', b'4.0', b'1.0', b'Iris-versicolor'],\n",
              "       [b'64', b'6.1', b'2.9', b'4.7', b'1.4', b'Iris-versicolor'],\n",
              "       [b'65', b'5.6', b'2.9', b'3.6', b'1.3', b'Iris-versicolor'],\n",
              "       [b'66', b'6.7', b'3.1', b'4.4', b'1.4', b'Iris-versicolor'],\n",
              "       [b'67', b'5.6', b'3.0', b'4.5', b'1.5', b'Iris-versicolor'],\n",
              "       [b'68', b'5.8', b'2.7', b'4.1', b'1.0', b'Iris-versicolor'],\n",
              "       [b'69', b'6.2', b'2.2', b'4.5', b'1.5', b'Iris-versicolor'],\n",
              "       [b'70', b'5.6', b'2.5', b'3.9', b'1.1', b'Iris-versicolor'],\n",
              "       [b'71', b'5.9', b'3.2', b'4.8', b'1.8', b'Iris-versicolor'],\n",
              "       [b'72', b'6.1', b'2.8', b'4.0', b'1.3', b'Iris-versicolor'],\n",
              "       [b'73', b'6.3', b'2.5', b'4.9', b'1.5', b'Iris-versicolor'],\n",
              "       [b'74', b'6.1', b'2.8', b'4.7', b'1.2', b'Iris-versicolor'],\n",
              "       [b'75', b'6.4', b'2.9', b'4.3', b'1.3', b'Iris-versicolor'],\n",
              "       [b'76', b'6.6', b'3.0', b'4.4', b'1.4', b'Iris-versicolor'],\n",
              "       [b'77', b'6.8', b'2.8', b'4.8', b'1.4', b'Iris-versicolor'],\n",
              "       [b'78', b'6.7', b'3.0', b'5.0', b'1.7', b'Iris-versicolor'],\n",
              "       [b'79', b'6.0', b'2.9', b'4.5', b'1.5', b'Iris-versicolor'],\n",
              "       [b'80', b'5.7', b'2.6', b'3.5', b'1.0', b'Iris-versicolor'],\n",
              "       [b'81', b'5.5', b'2.4', b'3.8', b'1.1', b'Iris-versicolor'],\n",
              "       [b'82', b'5.5', b'2.4', b'3.7', b'1.0', b'Iris-versicolor'],\n",
              "       [b'83', b'5.8', b'2.7', b'3.9', b'1.2', b'Iris-versicolor'],\n",
              "       [b'84', b'6.0', b'2.7', b'5.1', b'1.6', b'Iris-versicolor'],\n",
              "       [b'85', b'5.4', b'3.0', b'4.5', b'1.5', b'Iris-versicolor'],\n",
              "       [b'86', b'6.0', b'3.4', b'4.5', b'1.6', b'Iris-versicolor'],\n",
              "       [b'87', b'6.7', b'3.1', b'4.7', b'1.5', b'Iris-versicolor'],\n",
              "       [b'88', b'6.3', b'2.3', b'4.4', b'1.3', b'Iris-versicolor'],\n",
              "       [b'89', b'5.6', b'3.0', b'4.1', b'1.3', b'Iris-versicolor'],\n",
              "       [b'90', b'5.5', b'2.5', b'4.0', b'1.3', b'Iris-versicolor'],\n",
              "       [b'91', b'5.5', b'2.6', b'4.4', b'1.2', b'Iris-versicolor'],\n",
              "       [b'92', b'6.1', b'3.0', b'4.6', b'1.4', b'Iris-versicolor'],\n",
              "       [b'93', b'5.8', b'2.6', b'4.0', b'1.2', b'Iris-versicolor'],\n",
              "       [b'94', b'5.0', b'2.3', b'3.3', b'1.0', b'Iris-versicolor'],\n",
              "       [b'95', b'5.6', b'2.7', b'4.2', b'1.3', b'Iris-versicolor'],\n",
              "       [b'96', b'5.7', b'3.0', b'4.2', b'1.2', b'Iris-versicolor'],\n",
              "       [b'97', b'5.7', b'2.9', b'4.2', b'1.3', b'Iris-versicolor'],\n",
              "       [b'98', b'6.2', b'2.9', b'4.3', b'1.3', b'Iris-versicolor'],\n",
              "       [b'99', b'5.1', b'2.5', b'3.0', b'1.1', b'Iris-versicolor'],\n",
              "       [b'100', b'5.7', b'2.8', b'4.1', b'1.3', b'Iris-versicolor'],\n",
              "       [b'101', b'6.3', b'3.3', b'6.0', b'2.5', b'Iris-virginica'],\n",
              "       [b'102', b'5.8', b'2.7', b'5.1', b'1.9', b'Iris-virginica'],\n",
              "       [b'103', b'7.1', b'3.0', b'5.9', b'2.1', b'Iris-virginica'],\n",
              "       [b'104', b'6.3', b'2.9', b'5.6', b'1.8', b'Iris-virginica'],\n",
              "       [b'105', b'6.5', b'3.0', b'5.8', b'2.2', b'Iris-virginica'],\n",
              "       [b'106', b'7.6', b'3.0', b'6.6', b'2.1', b'Iris-virginica'],\n",
              "       [b'107', b'4.9', b'2.5', b'4.5', b'1.7', b'Iris-virginica'],\n",
              "       [b'108', b'7.3', b'2.9', b'6.3', b'1.8', b'Iris-virginica'],\n",
              "       [b'109', b'6.7', b'2.5', b'5.8', b'1.8', b'Iris-virginica'],\n",
              "       [b'110', b'7.2', b'3.6', b'6.1', b'2.5', b'Iris-virginica'],\n",
              "       [b'111', b'6.5', b'3.2', b'5.1', b'2.0', b'Iris-virginica'],\n",
              "       [b'112', b'6.4', b'2.7', b'5.3', b'1.9', b'Iris-virginica'],\n",
              "       [b'113', b'6.8', b'3.0', b'5.5', b'2.1', b'Iris-virginica'],\n",
              "       [b'114', b'5.7', b'2.5', b'5.0', b'2.0', b'Iris-virginica'],\n",
              "       [b'115', b'5.8', b'2.8', b'5.1', b'2.4', b'Iris-virginica'],\n",
              "       [b'116', b'6.4', b'3.2', b'5.3', b'2.3', b'Iris-virginica'],\n",
              "       [b'117', b'6.5', b'3.0', b'5.5', b'1.8', b'Iris-virginica'],\n",
              "       [b'118', b'7.7', b'3.8', b'6.7', b'2.2', b'Iris-virginica'],\n",
              "       [b'119', b'7.7', b'2.6', b'6.9', b'2.3', b'Iris-virginica'],\n",
              "       [b'120', b'6.0', b'2.2', b'5.0', b'1.5', b'Iris-virginica'],\n",
              "       [b'121', b'6.9', b'3.2', b'5.7', b'2.3', b'Iris-virginica'],\n",
              "       [b'122', b'5.6', b'2.8', b'4.9', b'2.0', b'Iris-virginica'],\n",
              "       [b'123', b'7.7', b'2.8', b'6.7', b'2.0', b'Iris-virginica'],\n",
              "       [b'124', b'6.3', b'2.7', b'4.9', b'1.8', b'Iris-virginica'],\n",
              "       [b'125', b'6.7', b'3.3', b'5.7', b'2.1', b'Iris-virginica'],\n",
              "       [b'126', b'7.2', b'3.2', b'6.0', b'1.8', b'Iris-virginica'],\n",
              "       [b'127', b'6.2', b'2.8', b'4.8', b'1.8', b'Iris-virginica'],\n",
              "       [b'128', b'6.1', b'3.0', b'4.9', b'1.8', b'Iris-virginica'],\n",
              "       [b'129', b'6.4', b'2.8', b'5.6', b'2.1', b'Iris-virginica'],\n",
              "       [b'130', b'7.2', b'3.0', b'5.8', b'1.6', b'Iris-virginica'],\n",
              "       [b'131', b'7.4', b'2.8', b'6.1', b'1.9', b'Iris-virginica'],\n",
              "       [b'132', b'7.9', b'3.8', b'6.4', b'2.0', b'Iris-virginica'],\n",
              "       [b'133', b'6.4', b'2.8', b'5.6', b'2.2', b'Iris-virginica'],\n",
              "       [b'134', b'6.3', b'2.8', b'5.1', b'1.5', b'Iris-virginica'],\n",
              "       [b'135', b'6.1', b'2.6', b'5.6', b'1.4', b'Iris-virginica'],\n",
              "       [b'136', b'7.7', b'3.0', b'6.1', b'2.3', b'Iris-virginica'],\n",
              "       [b'137', b'6.3', b'3.4', b'5.6', b'2.4', b'Iris-virginica'],\n",
              "       [b'138', b'6.4', b'3.1', b'5.5', b'1.8', b'Iris-virginica'],\n",
              "       [b'139', b'6.0', b'3.0', b'4.8', b'1.8', b'Iris-virginica'],\n",
              "       [b'140', b'6.9', b'3.1', b'5.4', b'2.1', b'Iris-virginica'],\n",
              "       [b'141', b'6.7', b'3.1', b'5.6', b'2.4', b'Iris-virginica'],\n",
              "       [b'142', b'6.9', b'3.1', b'5.1', b'2.3', b'Iris-virginica'],\n",
              "       [b'143', b'5.8', b'2.7', b'5.1', b'1.9', b'Iris-virginica'],\n",
              "       [b'144', b'6.8', b'3.2', b'5.9', b'2.3', b'Iris-virginica'],\n",
              "       [b'145', b'6.7', b'3.3', b'5.7', b'2.5', b'Iris-virginica'],\n",
              "       [b'146', b'6.7', b'3.0', b'5.2', b'2.3', b'Iris-virginica'],\n",
              "       [b'147', b'6.3', b'2.5', b'5.0', b'1.9', b'Iris-virginica'],\n",
              "       [b'148', b'6.5', b'3.0', b'5.2', b'2.0', b'Iris-virginica'],\n",
              "       [b'149', b'6.2', b'3.4', b'5.4', b'2.3', b'Iris-virginica'],\n",
              "       [b'150', b'5.9', b'3.0', b'5.1', b'1.8', b'Iris-virginica']],\n",
              "      dtype=object)"
            ]
          },
          "metadata": {},
          "execution_count": 59
        }
      ]
    },
    {
      "cell_type": "code",
      "source": [
        "# Import iris keeping the text column intact\n",
        "url = '/content/drive/MyDrive/dataset/Iris.csv'\n",
        "iris = np.genfromtxt(url, delimiter=',', dtype='object')\n",
        "\n",
        "\n",
        "\n",
        "rnd = iris[:,4]\n"
      ],
      "metadata": {
        "id": "9JEz6hOepsqE"
      },
      "execution_count": 60,
      "outputs": []
    },
    {
      "cell_type": "code",
      "source": [
        "np.random.seed(1000000)\n",
        "a = np.array(['Iris-setos', 'Iris-versicolor', 'Iris-virginica'])\n",
        "np.unique(np.random.choice(a, 150, p =[0.5, 0.25, 0.25]),return_counts= True)"
      ],
      "metadata": {
        "colab": {
          "base_uri": "https://localhost:8080/"
        },
        "id": "nipgdqrkpstL",
        "outputId": "b877da94-8c77-4162-a48e-db17c52ffee4"
      },
      "execution_count": 61,
      "outputs": [
        {
          "output_type": "execute_result",
          "data": {
            "text/plain": [
              "(array(['Iris-setos', 'Iris-versicolor', 'Iris-virginica'], dtype='<U15'),\n",
              " array([83, 29, 38]))"
            ]
          },
          "metadata": {},
          "execution_count": 61
        }
      ]
    }
  ]
}